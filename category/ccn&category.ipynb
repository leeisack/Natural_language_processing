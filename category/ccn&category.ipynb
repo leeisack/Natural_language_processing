{
 "metadata": {
  "language_info": {
   "codemirror_mode": {
    "name": "ipython",
    "version": 3
   },
   "file_extension": ".py",
   "mimetype": "text/x-python",
   "name": "python",
   "nbconvert_exporter": "python",
   "pygments_lexer": "ipython3",
   "version": 3
  },
  "orig_nbformat": 2
 },
 "nbformat": 4,
 "nbformat_minor": 2,
 "cells": [
  {
   "cell_type": "code",
   "execution_count": null,
   "metadata": {},
   "outputs": [],
   "source": [
    "# 문장 길이 시각화\n",
    "# 문장의 최대 길이 구하기\n",
    "import matplotlib.pyplot as plt\n",
    "\n",
    "len_stc = []\n",
    "for data in X_train:\n",
    "    len_stc.append(len(data))\n",
    "\n",
    "y, x, _ = plt.hist(len_stc, bins=30)\n",
    "plt.show()\n",
    "# print(_[1])\n",
    "print(sum(len_stc)/len(len_stc))\n",
    "print(y.max())\n",
    "print(x.max())\n",
    "print(x[np.where(y == y.max())])"
   ]
  },
  {
   "cell_type": "code",
   "execution_count": null,
   "metadata": {},
   "outputs": [],
   "source": [
    "# CNN 사용한 모델 구성\n",
    "model = Sequential()\n",
    "model.add(Embedding(5000, 256))\n",
    "# 256개의 커널수, 커널의 크기는 3, padding은 valid면 그냥 줄어든 그대로 / same이면 padding을 해서 원래 input크기로 맞춤\n",
    "model.add(Conv1D(256, 3, padding='valid', activation='relu'))\n",
    "# 그냥 maxpooling도 있지만 이때는 pool 사이즈랑 strides 를 명시해야하는데 global쓰면 명시안해도된다\n",
    "model.add(GlobalMaxPooling1D())\n",
    "model.add(Flatten())\n",
    "model.add(Dense(1, activation='sigmoid'))"
   ]
  },
  {
   "cell_type": "code",
   "execution_count": null,
   "metadata": {},
   "outputs": [],
   "source": [
    "# 스팸 데이터에 적용한 CNN 모델\n",
    "model = Sequential()\n",
    "model.add(Embedding(7792, 32))\n",
    "model.add(Conv1D(256, 3, padding='valid', activation='relu'))\n",
    "model.add(GlobalMaxPooling1D())\n",
    "model.add(Flatten())\n",
    "model.add(Dense(1, activation='sigmoid'))"
   ]
  },
  {
   "cell_type": "code",
   "execution_count": null,
   "metadata": {},
   "outputs": [],
   "source": [
    "# 함수형 api를 사용한 합성 모델\n",
    "# 함수형 케라스\n",
    "inputs = Input(shape=(50,))\n",
    "embed = Embedding(7792, 128)(inputs)\n",
    "\n",
    "# 모델 합성\n",
    "concat_layers = []\n",
    "\n",
    "conv = Conv1D(256, 3, padding='valid', activation='relu')(embed)\n",
    "pool = GlobalMaxPooling1D()(conv)\n",
    "flat = Flatten()(pool)\n",
    "concat_layers.append(flat)\n",
    "\n",
    "conv = Conv1D(256, 4, padding='valid', activation='relu')(embed)\n",
    "pool = GlobalMaxPooling1D()(conv)\n",
    "flat = Flatten()(pool)\n",
    "concat_layers.append(flat)\n",
    "\n",
    "conv = Conv1D(256, 5, padding='valid', activation='relu')(embed)\n",
    "pool = GlobalMaxPooling1D()(conv)\n",
    "flat = Flatten()(pool)\n",
    "concat_layers.append(flat)\n",
    "######\n",
    "concat = Concatenate()(concat_layers)\n",
    "\n",
    "outputs = Dense(1, activation=\"sigmoid\")(concat)\n",
    "\n",
    "model = Model(inputs, outputs)"
   ]
  },
  {
   "cell_type": "markdown",
   "metadata": {},
   "source": [
    "# 로이터 뉴스 카테고리 분류"
   ]
  },
  {
   "cell_type": "code",
   "execution_count": null,
   "metadata": {},
   "outputs": [],
   "source": [
    "from tensorflow.keras.datasets import reuters\n",
    "from tensorflow.keras.models import Sequential\n",
    "from tensorflow.keras.layers import Dense, LSTM, Embedding\n",
    "from tensorflow.keras.preprocessing.sequence import pad_sequences\n",
    "from tensorflow.keras.utils import to_categorical"
   ]
  },
  {
   "cell_type": "code",
   "execution_count": null,
   "metadata": {},
   "outputs": [],
   "source": [
    "(X_train, y_train), (X_test, y_test) = reuters.load_data(num_words=1000, test_split=0.2)"
   ]
  },
  {
   "cell_type": "code",
   "execution_count": null,
   "metadata": {},
   "outputs": [],
   "source": [
    "max_len = 100\n",
    "X_train = pad_sequences(X_train, maxlen=max_len)\n",
    "X_test = pad_sequences(X_test, maxlen=max_len)"
   ]
  },
  {
   "cell_type": "code",
   "execution_count": null,
   "metadata": {},
   "outputs": [],
   "source": [
    "y_train = to_categorical(y_train)\n",
    "y_test = to_categorical(y_test)"
   ]
  },
  {
   "cell_type": "code",
   "execution_count": null,
   "metadata": {},
   "outputs": [],
   "source": [
    "model = Sequential()\n",
    "model.add(Embedding(1000, 120))\n",
    "model.add(LSTM(120))\n",
    "model.add(Dense(46, activation='softmax'))"
   ]
  },
  {
   "cell_type": "code",
   "execution_count": null,
   "metadata": {},
   "outputs": [],
   "source": [
    "model.compile(loss='categorical_crossentropy', optimizer='adam', metrics=['acc'])\n",
    "model.fit(X_train, y_train, batch_size=128, epochs=1, validation_data=(X_test, y_test))"
   ]
  }
 ]
}