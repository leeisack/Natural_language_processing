{
 "cells": [
  {
   "cell_type": "markdown",
   "metadata": {},
   "source": [
    "### 제어구조:"
   ]
  },
  {
   "cell_type": "markdown",
   "metadata": {},
   "source": [
    "#### if-else 조건문:"
   ]
  },
  {
   "cell_type": "code",
   "execution_count": null,
   "metadata": {},
   "outputs": [],
   "source": [
    "x = input(\"나이 몇살?:\")\n",
    "x = int(x)\n",
    "if x < 8 :\n",
    "    print( str(x) + \"살은 조금 어려요.\")\n",
    "elif x >=8 and x<20:\n",
    "    print( str(x) + \"살이라... 학생이겠군...\")\n",
    "else:\n",
    "    print( \"20세 이상은 성인!\")"
   ]
  },
  {
   "cell_type": "code",
   "execution_count": null,
   "metadata": {},
   "outputs": [],
   "source": [
    "x = input(\"나이 몇살?:\")\n",
    "x = int(x)\n",
    "if x == 14 or x==15 or x == 16 :\n",
    "    print( \"중학생이군.\")\n",
    "elif x == 17 or x== 18 or x==19:\n",
    "    print( \"고등학생이군.\")\n",
    "else:\n",
    "    print( \"너무 어리거나... 나이가 많아요..!\")"
   ]
  },
  {
   "cell_type": "code",
   "execution_count": null,
   "metadata": {},
   "outputs": [],
   "source": [
    "x = input(\"2*3은 몇 이지요?\")\n",
    "x = int(x)\n",
    "if x == 2*3 :\n",
    "    print( \"정답!\")\n",
    "else:\n",
    "    print( \"오답!\")"
   ]
  },
  {
   "cell_type": "code",
   "execution_count": null,
   "metadata": {},
   "outputs": [],
   "source": [
    "x = input(\"2*3은 몇 이지요?\")\n",
    "x = int(x)\n",
    "if x !=2*3 :\n",
    "    print( \"오답!\")\n",
    "else:\n",
    "    print( \"정답!\")"
   ]
  },
  {
   "cell_type": "code",
   "execution_count": null,
   "metadata": {},
   "outputs": [],
   "source": [
    "x = input(\"2*3은 몇 이지요?\")\n",
    "x = int(x)\n",
    "y = ( x == 2*3)\n",
    "if y:\n",
    "    print( \"정답!\")\n",
    "else:\n",
    "    print( \"오답!\")"
   ]
  },
  {
   "cell_type": "markdown",
   "metadata": {},
   "source": [
    "#### range()의 의미:"
   ]
  },
  {
   "cell_type": "code",
   "execution_count": null,
   "metadata": {},
   "outputs": [],
   "source": [
    "range(1,5)"
   ]
  },
  {
   "cell_type": "code",
   "execution_count": null,
   "metadata": {},
   "outputs": [],
   "source": [
    "list(range(1,5))"
   ]
  },
  {
   "cell_type": "code",
   "execution_count": null,
   "metadata": {},
   "outputs": [],
   "source": [
    "list(range(1,10,2))"
   ]
  },
  {
   "cell_type": "code",
   "execution_count": null,
   "metadata": {},
   "outputs": [],
   "source": [
    "list(range(1,20,5))"
   ]
  },
  {
   "cell_type": "code",
   "execution_count": null,
   "metadata": {},
   "outputs": [],
   "source": [
    "1 in range(1,10)"
   ]
  },
  {
   "cell_type": "code",
   "execution_count": null,
   "metadata": {},
   "outputs": [],
   "source": [
    "9 in range(1,10)"
   ]
  },
  {
   "cell_type": "code",
   "execution_count": null,
   "metadata": {},
   "outputs": [],
   "source": [
    "10 in range(1,10)"
   ]
  },
  {
   "cell_type": "markdown",
   "metadata": {},
   "source": [
    "#### for 반복문:"
   ]
  },
  {
   "cell_type": "code",
   "execution_count": null,
   "metadata": {},
   "outputs": [],
   "source": [
    "X = ['You', 'need', 'Python!']\n",
    "for x in X:\n",
    "    print(x)"
   ]
  },
  {
   "cell_type": "code",
   "execution_count": null,
   "metadata": {},
   "outputs": [],
   "source": [
    "sum = 0\n",
    "for x in range(1, 11):\n",
    "#    print(x)\n",
    "    sum += x\n",
    "print(\"1에서 10 까지의 합은 = \" + str(sum))"
   ]
  },
  {
   "cell_type": "code",
   "execution_count": null,
   "metadata": {},
   "outputs": [],
   "source": [
    "sum = 0\n",
    "for x in range(2,101,2):\n",
    "#    print(x)\n",
    "    sum += x\n",
    "print(\"100 이하 짝수의 합은 = \" + str(sum))"
   ]
  },
  {
   "cell_type": "code",
   "execution_count": null,
   "metadata": {},
   "outputs": [],
   "source": [
    "sum = 0\n",
    "for x in range(1,101):\n",
    "    if ( x % 2 ==0):\n",
    "        sum += x\n",
    "print(\"100 이하 짝수의 합은 = \" + str(sum))"
   ]
  },
  {
   "cell_type": "code",
   "execution_count": null,
   "metadata": {},
   "outputs": [],
   "source": [
    "sum = 0\n",
    "for x in range(1,101):\n",
    "    if ( x % 2 !=0):\n",
    "        sum += x\n",
    "print(\"100 이하 홀수의 합은 = \" + str(sum))"
   ]
  },
  {
   "cell_type": "code",
   "execution_count": null,
   "metadata": {},
   "outputs": [],
   "source": [
    "sum = 0\n",
    "for x in range(1,101):\n",
    "    if x % 5 == 0:\n",
    "#        print(x)\n",
    "        sum += x\n",
    "print(\"100 이하 5배수의 합은 = \" + str(sum))"
   ]
  },
  {
   "cell_type": "code",
   "execution_count": null,
   "metadata": {},
   "outputs": [],
   "source": [
    "my_list = ['You', 'need', 'Python!']\n",
    "for x in my_list:\n",
    "    print(x)"
   ]
  },
  {
   "cell_type": "code",
   "execution_count": null,
   "metadata": {},
   "outputs": [],
   "source": [
    "for i in range(1,10):\n",
    "    for j in range(1,10):\n",
    "        print( \"%1d + %1d = %2d \" % ( i, j, i+j))"
   ]
  },
  {
   "cell_type": "markdown",
   "metadata": {},
   "source": [
    "#### while 반복문:"
   ]
  },
  {
   "cell_type": "code",
   "execution_count": null,
   "metadata": {},
   "outputs": [],
   "source": [
    "counter = 0\n",
    "sum = 0\n",
    "while counter < 11:\n",
    "    sum += counter\n",
    "    counter += 1\n",
    "print(\"1에서 10 까지의 합은 = \" + str(sum))"
   ]
  },
  {
   "cell_type": "code",
   "execution_count": null,
   "metadata": {},
   "outputs": [],
   "source": [
    "counter = 0\n",
    "sum = 0\n",
    "while counter < 1001:\n",
    "    if counter % 5 == 0:\n",
    "#        print(counter)\n",
    "        sum += counter\n",
    "    counter += 1\n",
    "print(\"1000 이하 5배수의 합은 = \" + str(sum))"
   ]
  },
  {
   "cell_type": "code",
   "execution_count": null,
   "metadata": {},
   "outputs": [],
   "source": [
    "i = 0\n",
    "while i < 9:\n",
    "    i += 1\n",
    "    j = 1\n",
    "    while j < 10:\n",
    "        print( \"%1d + %1d = %2d \" % ( i, j, i+j))\n",
    "        j += 1"
   ]
  },
  {
   "cell_type": "code",
   "execution_count": null,
   "metadata": {},
   "outputs": [],
   "source": [
    "# for 와 while의 조합.\n",
    "i = 0\n",
    "while i < 9:\n",
    "    i += 1\n",
    "    for j in range(1,10):\n",
    "        print( \"%1d + %1d = %2d \" % ( i, j, i+j))\n",
    "        j += 1"
   ]
  }
 ],
 "metadata": {
  "kernelspec": {
   "display_name": "Python 3",
   "language": "python",
   "name": "python3"
  },
  "language_info": {
   "codemirror_mode": {
    "name": "ipython",
    "version": 3
   },
   "file_extension": ".py",
   "mimetype": "text/x-python",
   "name": "python",
   "nbconvert_exporter": "python",
   "pygments_lexer": "ipython3",
   "version": "3.7.3"
  }
 },
 "nbformat": 4,
 "nbformat_minor": 2
}
