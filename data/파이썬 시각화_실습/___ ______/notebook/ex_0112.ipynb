{
 "cells": [
  {
   "cell_type": "markdown",
   "metadata": {},
   "source": [
    "### Folium 기초"
   ]
  },
  {
   "cell_type": "code",
   "execution_count": null,
   "metadata": {},
   "outputs": [],
   "source": [
    "# 필요한 패키지 설치.\n",
    "#!pip install folium"
   ]
  },
  {
   "cell_type": "code",
   "execution_count": null,
   "metadata": {},
   "outputs": [],
   "source": [
    "import folium"
   ]
  },
  {
   "cell_type": "markdown",
   "metadata": {},
   "source": [
    "#### 지도 시각화."
   ]
  },
  {
   "cell_type": "code",
   "execution_count": null,
   "metadata": {},
   "outputs": [],
   "source": [
    "# [경도, 위도] 좌표에 해당하는 지도를 시각화 할 수 있다.\n",
    "my_map = folium.Map(location=[35.229326,126.8596891])         # [경도, 위도]\n",
    "my_map"
   ]
  },
  {
   "cell_type": "code",
   "execution_count": null,
   "metadata": {},
   "outputs": [],
   "source": [
    "# 다음과 같이 저장할 수 있다.\n",
    "my_map.save(\"output.html\")"
   ]
  },
  {
   "cell_type": "code",
   "execution_count": null,
   "metadata": {},
   "outputs": [],
   "source": [
    "# OpenStreetMap, Stamen Terrain, Stamen Toner, Mapbox Bright, Mapbox Control Room 과 같은 tiles를 적용할 수 있다.\n",
    "# zoom_start로 시작 배율을 조정할 수 있다.\n",
    "my_map = folium.Map(location=[35.229326,126.8596891], tiles='Stamen Terrain', zoom_start=15)         # [경도, 위도]\n",
    "my_map"
   ]
  },
  {
   "cell_type": "markdown",
   "metadata": {},
   "source": [
    "#### 마커 (marker) 찍기."
   ]
  },
  {
   "cell_type": "code",
   "execution_count": null,
   "metadata": {},
   "outputs": [],
   "source": [
    "# 기본형 마커 한 개.\n",
    "my_map = folium.Map(location=[35.229326,126.85968912], zoom_start=15, tiles='OpenStreetMap')\n",
    "folium.Marker([35.229326,126.85968912], popup='<i>Gwangju AI</i>', tooltip='We are here!').add_to(my_map)\n",
    "my_map"
   ]
  },
  {
   "cell_type": "code",
   "execution_count": null,
   "metadata": {},
   "outputs": [],
   "source": [
    "# 기본형 마커 세 개.\n",
    "my_map = folium.Map(location=[35.229326,126.85968912], zoom_start=15, tiles='OpenStreetMap')\n",
    "folium.Marker([35.229326,126.85968912], popup='<b>Hello!</b>', tooltip='A', icon=folium.Icon(color='green',icon='cloud')).add_to(my_map)\n",
    "folium.Marker([35.229326,126.85968912+0.002], popup='<b>Gwangju</b>', tooltip='B', icon=folium.Icon(color='blue')).add_to(my_map)\n",
    "folium.Marker([35.229326,126.85968912+0.004], popup='<b>AI</b>', tooltip='C', icon=folium.Icon(color='red', icon = 'info-sign')).add_to(my_map)\n",
    "my_map"
   ]
  },
  {
   "cell_type": "code",
   "execution_count": null,
   "metadata": {},
   "outputs": [],
   "source": [
    "# 서클 세 개.\n",
    "my_map = folium.Map(location=[35.229326,126.85968912], zoom_start=15, tiles='OpenStreetMap')\n",
    "folium.Circle([35.229326,126.85968912], popup='<b>Hello!</b>', radius = 30, color='#FF0000', fill=False).add_to(my_map)\n",
    "folium.Circle([35.229326,126.85968912+0.002], popup='<b>Gwangju</b>', radius = 60, color='#00FF00', fill_color = '#FF00FF', fill = True).add_to(my_map)\n",
    "folium.Circle([35.229326,126.85968912+0.004], popup='<b>AI</b>', radius = 90, color = '#0000FF',fill=False).add_to(my_map)\n",
    "my_map"
   ]
  },
  {
   "cell_type": "code",
   "execution_count": null,
   "metadata": {},
   "outputs": [],
   "source": [
    "# 서클 마커 한 개.\n",
    "my_map = folium.Map(location=[35.229326,126.85968912], zoom_start=15, tiles='OpenStreetMap')\n",
    "folium.CircleMarker([35.229326,126.85968912], popup='<i>Gwangju AI</i>', radius = 50, color = '#00FF00', fill_color = '#00FF00', fill=True ).add_to(my_map)\n",
    "my_map"
   ]
  },
  {
   "cell_type": "code",
   "execution_count": null,
   "metadata": {},
   "outputs": [],
   "source": [
    "# 클릭해서 새로운 마커 추가.\n",
    "# 더블 클릭해서 마커 삭제.\n",
    "my_map = folium.Map(location=[35.229326,126.85968912], zoom_start=15, tiles='OpenStreetMap')\n",
    "my_map.add_child(folium.ClickForMarker(popup='<strong>Hello!</strong>'))\n",
    "my_map"
   ]
  },
  {
   "cell_type": "code",
   "execution_count": null,
   "metadata": {},
   "outputs": [],
   "source": [
    "# 클릭하면 위도, 경도 popup.\n",
    "my_map = folium.Map(location=[35.229326,126.85968912], zoom_start=15, tiles='OpenStreetMap')\n",
    "my_map.add_child(folium.LatLngPopup())\n",
    "my_map"
   ]
  },
  {
   "cell_type": "code",
   "execution_count": null,
   "metadata": {},
   "outputs": [],
   "source": []
  }
 ],
 "metadata": {
  "kernelspec": {
   "display_name": "Python 3",
   "language": "python",
   "name": "python3"
  },
  "language_info": {
   "codemirror_mode": {
    "name": "ipython",
    "version": 3
   },
   "file_extension": ".py",
   "mimetype": "text/x-python",
   "name": "python",
   "nbconvert_exporter": "python",
   "pygments_lexer": "ipython3",
   "version": "3.7.6"
  }
 },
 "nbformat": 4,
 "nbformat_minor": 4
}
