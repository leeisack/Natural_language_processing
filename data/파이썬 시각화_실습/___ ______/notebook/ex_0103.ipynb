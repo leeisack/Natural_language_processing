{
 "cells": [
  {
   "cell_type": "markdown",
   "metadata": {},
   "source": [
    "### Seaborn 시각화 III"
   ]
  },
  {
   "cell_type": "code",
   "execution_count": null,
   "metadata": {},
   "outputs": [],
   "source": [
    "import pandas as pd\n",
    "import numpy as np\n",
    "import seaborn as sns\n",
    "import matplotlib.pyplot as plt\n",
    "import os\n",
    "import warnings\n",
    "%matplotlib inline\n",
    "warnings.filterwarnings('ignore')           # 성가신 warning은 off 해준다. "
   ]
  },
  {
   "cell_type": "markdown",
   "metadata": {},
   "source": [
    "#### 산점도 + 회귀선 lmplot "
   ]
  },
  {
   "cell_type": "code",
   "execution_count": null,
   "metadata": {},
   "outputs": [],
   "source": [
    "# 내장 데이터를 불러옴.\n",
    "dat = sns.load_dataset('mpg')\n",
    "dat.head(5)"
   ]
  },
  {
   "cell_type": "code",
   "execution_count": null,
   "metadata": {},
   "outputs": [],
   "source": [
    "# 산점도 + 회귀선 \n",
    "sns.lmplot(data=dat, x='weight', y='mpg')\n",
    "plt.show()"
   ]
  },
  {
   "cell_type": "code",
   "execution_count": null,
   "metadata": {},
   "outputs": [],
   "source": [
    "# 산점도 + 회귀선 \n",
    "# 하나의 패널에 유형별 시각화.\n",
    "sns.lmplot(data=dat, x='weight', y='mpg', hue = 'origin')\n",
    "plt.show()"
   ]
  },
  {
   "cell_type": "code",
   "execution_count": null,
   "metadata": {},
   "outputs": [],
   "source": [
    "# 산점도 + 회귀선 \n",
    "# 다중 시각화.\n",
    "sns.lmplot(data=dat, x='weight', y='mpg', col = 'origin', hue = 'origin')\n",
    "plt.show()"
   ]
  },
  {
   "cell_type": "code",
   "execution_count": null,
   "metadata": {},
   "outputs": [],
   "source": [
    "# 산점도 + 회귀선 \n",
    "# 다중 시각화. \n",
    "sns.lmplot(data=dat, x='weight', y='mpg', col = 'origin', hue = 'origin', markers=['o','v','^'])\n",
    "plt.show()"
   ]
  },
  {
   "cell_type": "code",
   "execution_count": null,
   "metadata": {},
   "outputs": [],
   "source": [
    "# 산점도 + 회귀선 \n",
    "# 다중 시각화. \n",
    "# 패널의 비율과 크기 조정.\n",
    "sns.lmplot(data=dat, x='weight', y='mpg', col = 'origin', hue = 'origin', markers=['o','v','^'], \n",
    "           scatter_kws={'s':30}, aspect=0.5, size=5)\n",
    "plt.show()"
   ]
  },
  {
   "cell_type": "markdown",
   "metadata": {},
   "source": [
    "#### Color palette"
   ]
  },
  {
   "cell_type": "code",
   "execution_count": null,
   "metadata": {},
   "outputs": [],
   "source": [
    "# 도수분포표를 막대그림으로 나타냄.\n",
    "# 인자 x만 필요함.\n",
    "sns.countplot(x='origin', data=dat, palette='cubehelix')\n",
    "# sns.countplot(x='origin', data=dat, palette='coolwarm')\n",
    "# sns.countplot(x='origin', data=dat, palette='magma')\n",
    "# sns.countplot(x='origin', data=dat, palette='seismic')\n",
    "plt.show()"
   ]
  },
  {
   "cell_type": "code",
   "execution_count": null,
   "metadata": {},
   "outputs": [],
   "source": []
  }
 ],
 "metadata": {
  "kernelspec": {
   "display_name": "Python 3",
   "language": "python",
   "name": "python3"
  },
  "language_info": {
   "codemirror_mode": {
    "name": "ipython",
    "version": 3
   },
   "file_extension": ".py",
   "mimetype": "text/x-python",
   "name": "python",
   "nbconvert_exporter": "python",
   "pygments_lexer": "ipython3",
   "version": "3.7.4"
  }
 },
 "nbformat": 4,
 "nbformat_minor": 2
}
