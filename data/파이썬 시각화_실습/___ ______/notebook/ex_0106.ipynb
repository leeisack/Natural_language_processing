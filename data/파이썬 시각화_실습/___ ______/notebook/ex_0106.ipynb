{
 "cells": [
  {
   "cell_type": "markdown",
   "metadata": {},
   "source": [
    "### Bokeh의 자료구조 ColumnDataSource "
   ]
  },
  {
   "cell_type": "code",
   "execution_count": null,
   "metadata": {},
   "outputs": [],
   "source": [
    "from bokeh.plotting import figure\n",
    "from bokeh.io import output_file, show\n",
    "from bokeh.models import Range1d, ColumnDataSource\n",
    "from bokeh.sampledata.iris import flowers              # 붓꽃 데이터."
   ]
  },
  {
   "cell_type": "code",
   "execution_count": null,
   "metadata": {},
   "outputs": [],
   "source": [
    "# 데이터 프레임 확인.\n",
    "type(flowers)   "
   ]
  },
  {
   "cell_type": "markdown",
   "metadata": {},
   "source": [
    "#### DataFrame을 ColumnDataSource로 변환하여 시각화"
   ]
  },
  {
   "cell_type": "code",
   "execution_count": null,
   "metadata": {},
   "outputs": [],
   "source": [
    "# ColumnDataSource로 변환.\n",
    "my_data = ColumnDataSource(flowers)\n",
    "type(my_data)"
   ]
  },
  {
   "cell_type": "code",
   "execution_count": null,
   "metadata": {},
   "outputs": [],
   "source": [
    "# species를 컬러로 변환.\n",
    "my_color_dict = {'setosa':'red', 'virginica':'green', 'versicolor':'blue'}\n",
    "my_color = flowers['species'].apply(lambda x: my_color_dict[x])"
   ]
  },
  {
   "cell_type": "code",
   "execution_count": null,
   "metadata": {},
   "outputs": [],
   "source": [
    "# ColumnDataSource 객체에 컬럼 추가.\n",
    "my_data.add(data = my_color.values, name='color');"
   ]
  },
  {
   "cell_type": "code",
   "execution_count": null,
   "metadata": {},
   "outputs": [],
   "source": [
    "# 출력 HTML 파일 준비. 실제 출력이 이루어 지지는 않는다.\n",
    "output_file(\"output.html\")"
   ]
  },
  {
   "cell_type": "code",
   "execution_count": null,
   "metadata": {},
   "outputs": [],
   "source": [
    "# figure 객체 생성 및 기본 커스터마이징.\n",
    "f = figure()\n",
    "f.plot_width=700                                # Plot의 가로 크기.\n",
    "f.plot_height=500                               # Plot의 세로 크기.\n",
    "f.background_fill_color=\"yellow\"                # 백그라운드 컬러.\n",
    "f.background_fill_alpha=0.1"
   ]
  },
  {
   "cell_type": "code",
   "execution_count": null,
   "metadata": {},
   "outputs": [],
   "source": [
    "f.circle(x=\"sepal_length\", y=\"sepal_width\", fill_alpha=0.5, color=\"color\", size=10, source=my_data);"
   ]
  },
  {
   "cell_type": "code",
   "execution_count": null,
   "metadata": {},
   "outputs": [],
   "source": [
    " show(f)"
   ]
  },
  {
   "cell_type": "markdown",
   "metadata": {},
   "source": [
    "#### 새롭게 ColumnDataSource 변환하여 시각화"
   ]
  },
  {
   "cell_type": "code",
   "execution_count": null,
   "metadata": {},
   "outputs": [],
   "source": [
    "# 딕셔너리 바탕으로 새로운 ColumnDataSource 객체 생성.\n",
    "my_data = ColumnDataSource({'x':[1,2,3,4,5], 'y':[1,4,9,16,25]})"
   ]
  },
  {
   "cell_type": "code",
   "execution_count": null,
   "metadata": {},
   "outputs": [],
   "source": [
    "# 전체 출력.\n",
    "my_data.data"
   ]
  },
  {
   "cell_type": "code",
   "execution_count": null,
   "metadata": {},
   "outputs": [],
   "source": [
    "# 'x' 출력.\n",
    "my_data.data['x']"
   ]
  },
  {
   "cell_type": "code",
   "execution_count": null,
   "metadata": {},
   "outputs": [],
   "source": [
    "# 'y' 출력.\n",
    "my_data.data['y']"
   ]
  },
  {
   "cell_type": "code",
   "execution_count": null,
   "metadata": {},
   "outputs": [],
   "source": [
    "# 시각화 출력.\n",
    "output_file(\"output.html\")\n",
    "f = figure()\n",
    "f.line(x=\"x\", y=\"y\", color = \"blue\", source=my_data)\n",
    "show(f)"
   ]
  },
  {
   "cell_type": "code",
   "execution_count": null,
   "metadata": {},
   "outputs": [],
   "source": []
  }
 ],
 "metadata": {
  "kernelspec": {
   "display_name": "Python 3",
   "language": "python",
   "name": "python3"
  },
  "language_info": {
   "codemirror_mode": {
    "name": "ipython",
    "version": 3
   },
   "file_extension": ".py",
   "mimetype": "text/x-python",
   "name": "python",
   "nbconvert_exporter": "python",
   "pygments_lexer": "ipython3",
   "version": "3.7.6"
  }
 },
 "nbformat": 4,
 "nbformat_minor": 4
}
