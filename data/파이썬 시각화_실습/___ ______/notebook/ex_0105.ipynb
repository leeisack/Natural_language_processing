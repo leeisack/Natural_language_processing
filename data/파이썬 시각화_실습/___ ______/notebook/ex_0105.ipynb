{
 "cells": [
  {
   "cell_type": "markdown",
   "metadata": {},
   "source": [
    "### Bokeh 시각화 커스터마이징"
   ]
  },
  {
   "cell_type": "code",
   "execution_count": null,
   "metadata": {},
   "outputs": [],
   "source": [
    "from bokeh.plotting import figure\n",
    "from bokeh.io import output_file, show\n",
    "from bokeh.models import Range1d\n",
    "from bokeh.sampledata.iris import flowers              # 붓꽃 데이터."
   ]
  },
  {
   "cell_type": "code",
   "execution_count": null,
   "metadata": {},
   "outputs": [],
   "source": [
    "# 데이터 프레임 확인.\n",
    "type(flowers)                                          "
   ]
  },
  {
   "cell_type": "code",
   "execution_count": null,
   "metadata": {},
   "outputs": [],
   "source": [
    "flowers.head(3)"
   ]
  },
  {
   "cell_type": "markdown",
   "metadata": {},
   "source": [
    "#### 산점도 기본형"
   ]
  },
  {
   "cell_type": "code",
   "execution_count": null,
   "metadata": {},
   "outputs": [],
   "source": [
    "# 출력 HTML 파일 준비. 실제 출력이 이루어 지지는 않는다.\n",
    "output_file(\"output.html\")"
   ]
  },
  {
   "cell_type": "code",
   "execution_count": null,
   "metadata": {},
   "outputs": [],
   "source": [
    "# figure 객체 생성.\n",
    "f = figure()"
   ]
  },
  {
   "cell_type": "code",
   "execution_count": null,
   "metadata": {},
   "outputs": [],
   "source": [
    "# Plot 크기 및 백그라운드 색상 커스터마이징.\n",
    "f.plot_width=700                                # Plot의 가로 크기.\n",
    "f.plot_height=500                               # Plot의 세로 크기.\n",
    "f.background_fill_color=\"yellow\"                # 백그라운드 색상.\n",
    "f.background_fill_alpha=0.1"
   ]
  },
  {
   "cell_type": "code",
   "execution_count": null,
   "metadata": {},
   "outputs": [],
   "source": [
    "# 타이틀 커스터마이징.\n",
    "f.title.text=\"붓꽃 시각화\"                      # 타이틀.\n",
    "f.title.text_color=\"blue\"                       # 타이틀 색상.\n",
    "f.title.text_font=\"times\"                       # 타이틀 폰트.\n",
    "f.title.text_font_size=\"18px\"                   # 타이틀 크기.\n",
    "f.title.align=\"center\"                          # 타이틀 위치."
   ]
  },
  {
   "cell_type": "code",
   "execution_count": null,
   "metadata": {},
   "outputs": [],
   "source": [
    "# 축 레이블 커스터 마이징.\n",
    "f.axis.axis_label_text_color=\"red\"                        # 축 레이블 색상.\n",
    "#f.yaxis.major_label_orientation=\"vertical\"\n",
    "#f.yaxis.visible = True\n",
    "f.yaxis.axis_label=\"Sepal Width\"\n",
    "#f.xaxis.major_label_orientation=\"horizontal\"\n",
    "#f.xaxis.visible=True\n",
    "f.xaxis.axis_label=\"Sepal Length\""
   ]
  },
  {
   "cell_type": "code",
   "execution_count": null,
   "metadata": {},
   "outputs": [],
   "source": [
    "# 축의 시작과 끝을 정한다.\n",
    "f.x_range = Range1d(start = 3, end = 9)     # 가로축 범위.\n",
    "f.y_range = Range1d(start = 1, end = 5)     # 세로축 범위"
   ]
  },
  {
   "cell_type": "code",
   "execution_count": null,
   "metadata": {},
   "outputs": [],
   "source": [
    "# species를 컬러로 변환.\n",
    "my_color_dict = {'setosa':'red', 'virginica':'green', 'versicolor':'blue'}\n",
    "my_color = flowers['species'].apply(lambda x: my_color_dict[x])"
   ]
  },
  {
   "cell_type": "code",
   "execution_count": null,
   "metadata": {},
   "outputs": [],
   "source": [
    "f.circle(x=flowers.sepal_length, y = flowers.sepal_width, fill_alpha=0.3, color=my_color, size = 10);"
   ]
  },
  {
   "cell_type": "code",
   "execution_count": null,
   "metadata": {},
   "outputs": [],
   "source": [
    "# 파일로 출력하고 브라우저로 보여준다.\n",
    "show(f)"
   ]
  },
  {
   "cell_type": "markdown",
   "metadata": {},
   "source": [
    "#### 범례 적용"
   ]
  },
  {
   "cell_type": "markdown",
   "metadata": {},
   "source": [
    "이전 예문을 이어서 사용하며, 범례만 추가한다."
   ]
  },
  {
   "cell_type": "code",
   "execution_count": null,
   "metadata": {},
   "outputs": [],
   "source": [
    "# 유형별 범례 적용하여 그린다.\n",
    "# 각각의 색상과 marker 적용.\n",
    "f.circle(x=flowers[flowers.species=='setosa'].sepal_length, y = flowers[flowers.species=='setosa'].sepal_width, fill_alpha=0.3, color='red', size = 10,legend_label='Setosa');\n",
    "f.triangle(x=flowers[flowers.species=='virginica'].sepal_length, y = flowers[flowers.species=='virginica'].sepal_width, fill_alpha=0.3, color='green',size=10, legend_label='Virginica');\n",
    "f.square(x=flowers[flowers.species=='versicolor'].sepal_length, y = flowers[flowers.species=='versicolor'].sepal_width, fill_alpha=0.3, color='blue', size=10,legend_label='Versicolor');"
   ]
  },
  {
   "cell_type": "code",
   "execution_count": null,
   "metadata": {},
   "outputs": [],
   "source": [
    "# 범례 커스터마이징.\n",
    "f.legend.location = 'top_right'\n",
    "f.legend.background_fill_color = 'orange'\n",
    "f.legend.background_fill_alpha = 0.3\n",
    "f.legend.border_line_color = None\n",
    "f.legend.label_text_color = 'black'\n",
    "f.legend.label_text_font = 'times'"
   ]
  },
  {
   "cell_type": "code",
   "execution_count": null,
   "metadata": {},
   "outputs": [],
   "source": [
    "# 파일로 출력하고 브라우저로 보여준다.\n",
    "show(f)"
   ]
  },
  {
   "cell_type": "code",
   "execution_count": null,
   "metadata": {},
   "outputs": [],
   "source": []
  }
 ],
 "metadata": {
  "kernelspec": {
   "display_name": "Python 3",
   "language": "python",
   "name": "python3"
  },
  "language_info": {
   "codemirror_mode": {
    "name": "ipython",
    "version": 3
   },
   "file_extension": ".py",
   "mimetype": "text/x-python",
   "name": "python",
   "nbconvert_exporter": "python",
   "pygments_lexer": "ipython3",
   "version": "3.7.6"
  }
 },
 "nbformat": 4,
 "nbformat_minor": 4
}
