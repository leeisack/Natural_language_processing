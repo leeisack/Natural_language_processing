{
 "cells": [
  {
   "cell_type": "markdown",
   "metadata": {},
   "source": [
    "### Bokeh의 툴"
   ]
  },
  {
   "cell_type": "code",
   "execution_count": null,
   "metadata": {},
   "outputs": [],
   "source": [
    "from bokeh.plotting import figure\n",
    "from bokeh.io import output_file, show\n",
    "from bokeh.models import Range1d, ColumnDataSource\n",
    "from bokeh.models import ResetTool, PanTool, ZoomInTool, ZoomOutTool, HoverTool\n",
    "from bokeh.sampledata.iris import flowers              # 붓꽃 데이터.\n",
    "import bokeh.models"
   ]
  },
  {
   "cell_type": "code",
   "execution_count": null,
   "metadata": {},
   "outputs": [],
   "source": [
    "# 'Tool'로 끝나는 클래스를 출력해 본다.\n",
    "my_list = dir(bokeh.models)\n",
    "my_tool_list =[]\n",
    "for an_item in my_list:\n",
    "    if 'Tool' in an_item[4:]:\n",
    "        my_tool_list.append(an_item)\n",
    "print(my_tool_list)"
   ]
  },
  {
   "cell_type": "markdown",
   "metadata": {},
   "source": [
    "#### 필요한 툴만을 붙여준다."
   ]
  },
  {
   "cell_type": "code",
   "execution_count": null,
   "metadata": {},
   "outputs": [],
   "source": [
    "# species를 컬러로 변환. \n",
    "# 'color' 컬럼 추가.\n",
    "my_color_dict = {'setosa':'red', 'virginica':'green', 'versicolor':'blue'}\n",
    "flowers['color'] = flowers['species'].apply(lambda x: my_color_dict[x])"
   ]
  },
  {
   "cell_type": "code",
   "execution_count": null,
   "metadata": {},
   "outputs": [],
   "source": [
    "# ColumnDataSource로 변환.\n",
    "my_data = ColumnDataSource(flowers)"
   ]
  },
  {
   "cell_type": "code",
   "execution_count": null,
   "metadata": {},
   "outputs": [],
   "source": [
    "# 출력 HTML 파일 준비. 실제 출력이 이루어 지지는 않는다.\n",
    "output_file(\"output.html\")"
   ]
  },
  {
   "cell_type": "code",
   "execution_count": null,
   "metadata": {},
   "outputs": [],
   "source": [
    "# figure 객체 생성 및 기본 커스터마이징.\n",
    "f = figure()\n",
    "f.plot_width=700                                # Plot의 가로 크기.\n",
    "f.plot_height=500                               # Plot의 세로 크기.\n",
    "f.background_fill_color=\"yellow\"                # 백그라운드 컬러.\n",
    "f.background_fill_alpha=0.1"
   ]
  },
  {
   "cell_type": "code",
   "execution_count": null,
   "metadata": {},
   "outputs": [],
   "source": [
    "# 툴 커스터마이징.\n",
    "f.tools = [PanTool(),ResetTool(),ZoomInTool(),ZoomOutTool()]\n",
    "f.toolbar_location = 'below'\n",
    "f.toolbar.logo = None                           "
   ]
  },
  {
   "cell_type": "code",
   "execution_count": null,
   "metadata": {},
   "outputs": [],
   "source": [
    "f.circle(x=\"sepal_length\", y=\"sepal_width\", fill_alpha=0.5, color=\"color\", size = 10, source=my_data);"
   ]
  },
  {
   "cell_type": "code",
   "execution_count": null,
   "metadata": {},
   "outputs": [],
   "source": [
    " show(f)"
   ]
  },
  {
   "cell_type": "markdown",
   "metadata": {},
   "source": [
    "#### HoverTool 을 붙여준다."
   ]
  },
  {
   "cell_type": "code",
   "execution_count": null,
   "metadata": {},
   "outputs": [],
   "source": [
    "# HoverTool (tooltip 기능)을 붙여주고 다시 출력한다.\n",
    "# 주의: ColumnDataSource 형태의 데이터 source를 사용 할 때에만 작동한다.\n",
    "f.add_tools(HoverTool(tooltips=[(\"Sepal Width\",\"@sepal_width\"),(\"Sepal Length\",\"@sepal_length\"),(\"Species\",\"@species\")]))\n",
    "show(f)"
   ]
  },
  {
   "cell_type": "markdown",
   "metadata": {},
   "source": [
    "#### HoverTool 심화."
   ]
  },
  {
   "cell_type": "code",
   "execution_count": null,
   "metadata": {},
   "outputs": [],
   "source": [
    "# species에 해당하는 이미지의 URL. Wikipedia에서 가져옴.\n",
    "# 'url' 컬럼 추가.\n",
    "my_URL_dict = {'setosa':'https://upload.wikimedia.org/wikipedia/commons/thumb/5/56/Kosaciec_szczecinkowaty_Iris_setosa.jpg/800px-Kosaciec_szczecinkowaty_Iris_setosa.jpg', \n",
    "                 'virginica':'https://upload.wikimedia.org/wikipedia/commons/thumb/9/9f/Iris_virginica.jpg/800px-Iris_virginica.jpg', \n",
    "                 'versicolor':'https://upload.wikimedia.org/wikipedia/commons/thumb/2/27/Blue_Flag%2C_Ottawa.jpg/800px-Blue_Flag%2C_Ottawa.jpg'}\n",
    "flowers['url'] = flowers['species'].apply(lambda x: my_URL_dict[x])"
   ]
  },
  {
   "cell_type": "code",
   "execution_count": null,
   "metadata": {},
   "outputs": [],
   "source": [
    "# ColumnDataSource로 변환.\n",
    "my_data = ColumnDataSource(flowers)"
   ]
  },
  {
   "cell_type": "code",
   "execution_count": null,
   "metadata": {},
   "outputs": [],
   "source": [
    "# figure 객체 생성 및 기본 커스터마이징.\n",
    "f = figure()\n",
    "f.plot_width=700                                # Plot의 가로 크기.\n",
    "f.plot_height=500                               # Plot의 세로 크기.\n",
    "f.background_fill_color=\"yellow\"                # 백그라운드 컬러.\n",
    "f.background_fill_alpha=0.1"
   ]
  },
  {
   "cell_type": "code",
   "execution_count": null,
   "metadata": {},
   "outputs": [],
   "source": [
    "# HTML로 tooltip을 정의한다.\n",
    "my_HTML = \"\"\"\n",
    "<div>\n",
    " <div>  <img src=\"@url\" height = \"100\" width = \"100\"> </img> <div>\n",
    " <div> <strong>Species : </strong> <span style=\"color:#FF0000;\">@species </span> </div>\n",
    " <div> <strong>Sepal Length : </strong> <span style=\"color:#0000FF;\"> @sepal_length </span> </div>\n",
    " <div> <strong>Sepal Width : </strong> <span style=\"color:#0000FF;\"> @sepal_length </span></div>\n",
    "</div>\n",
    "\"\"\""
   ]
  },
  {
   "cell_type": "code",
   "execution_count": null,
   "metadata": {},
   "outputs": [],
   "source": [
    "# 툴 커스터마이징.\n",
    "f.tools = [PanTool(),ResetTool(),ZoomInTool(),ZoomOutTool(), HoverTool(tooltips=my_HTML)]\n",
    "f.toolbar_location = 'below'\n",
    "f.toolbar.logo = None  "
   ]
  },
  {
   "cell_type": "code",
   "execution_count": null,
   "metadata": {},
   "outputs": [],
   "source": [
    "f.circle(x=\"sepal_length\", y=\"sepal_width\", fill_alpha=0.5, color=\"color\", size = 10, source=my_data)\n",
    "show(f)"
   ]
  },
  {
   "cell_type": "code",
   "execution_count": null,
   "metadata": {},
   "outputs": [],
   "source": []
  }
 ],
 "metadata": {
  "kernelspec": {
   "display_name": "Python 3",
   "language": "python",
   "name": "python3"
  },
  "language_info": {
   "codemirror_mode": {
    "name": "ipython",
    "version": 3
   },
   "file_extension": ".py",
   "mimetype": "text/x-python",
   "name": "python",
   "nbconvert_exporter": "python",
   "pygments_lexer": "ipython3",
   "version": "3.7.6"
  }
 },
 "nbformat": 4,
 "nbformat_minor": 4
}
