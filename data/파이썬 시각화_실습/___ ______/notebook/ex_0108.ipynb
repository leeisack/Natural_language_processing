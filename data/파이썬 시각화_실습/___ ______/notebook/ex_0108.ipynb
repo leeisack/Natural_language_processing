{
 "cells": [
  {
   "cell_type": "markdown",
   "metadata": {},
   "source": [
    "### Bokeh 레이블"
   ]
  },
  {
   "cell_type": "code",
   "execution_count": null,
   "metadata": {},
   "outputs": [],
   "source": [
    "from bokeh.plotting import figure\n",
    "from bokeh.io import output_file, show\n",
    "from bokeh.models import Range1d, ColumnDataSource\n",
    "from bokeh.models.annotations import Label,LabelSet\n",
    "import os\n",
    "import pandas as pd"
   ]
  },
  {
   "cell_type": "code",
   "execution_count": null,
   "metadata": {},
   "outputs": [],
   "source": [
    "os.chdir(r'C:\\Users\\sycha_000\\Documents\\교육사업\\20200701_광주인공지능 - A\\04_파이썬 시각화 심화\\data')"
   ]
  },
  {
   "cell_type": "code",
   "execution_count": null,
   "metadata": {},
   "outputs": [],
   "source": [
    "# DataFrame으로 데이터를 읽어온다.\n",
    "data = pd.read_csv(\"data_studentlist_en.csv\",header=\"infer\")"
   ]
  },
  {
   "cell_type": "code",
   "execution_count": null,
   "metadata": {},
   "outputs": [],
   "source": [
    "# ColumnDataSource로 변환. \n",
    "my_data = ColumnDataSource(data)\n",
    "my_data.data.keys()"
   ]
  },
  {
   "cell_type": "markdown",
   "metadata": {},
   "source": [
    "#### 그래프에 Label과 LabelSet을 적용해 준다."
   ]
  },
  {
   "cell_type": "code",
   "execution_count": null,
   "metadata": {},
   "outputs": [],
   "source": [
    "# 출력 HTML 파일 준비. 실제 출력이 이루어 지지는 않는다.\n",
    "output_file(\"output.html\")"
   ]
  },
  {
   "cell_type": "code",
   "execution_count": null,
   "metadata": {},
   "outputs": [],
   "source": [
    "# figure 객체 생성 및 기본 커스터마이징.\n",
    "f = figure()\n",
    "f.plot_width=700                                # Plot의 가로 크기.\n",
    "f.plot_height=500                               # Plot의 세로 크기.\n",
    "f.background_fill_color=\"yellow\"                # 백그라운드 컬러.\n",
    "f.background_fill_alpha=0.1"
   ]
  },
  {
   "cell_type": "code",
   "execution_count": null,
   "metadata": {},
   "outputs": [],
   "source": [
    "# 타이틀 커스터마이징.\n",
    "f.title.text=\"신장 대 체중\"                      # 타이틀.\n",
    "f.title.text_color=\"blue\"                       # 타이틀 색상.\n",
    "f.title.text_font=\"times\"                       # 타이틀 폰트.\n",
    "f.title.text_font_size=\"18px\"                   # 타이틀 크기.\n",
    "f.title.align=\"center\"                          # 타이틀 위치."
   ]
  },
  {
   "cell_type": "code",
   "execution_count": null,
   "metadata": {},
   "outputs": [],
   "source": [
    "# 축 레이블 커스터 마이징.\n",
    "f.axis.axis_label_text_color=\"red\"                        # 축 레이블 색상.\n",
    "f.yaxis.axis_label=\"체중\"\n",
    "f.xaxis.axis_label=\"신장\""
   ]
  },
  {
   "cell_type": "code",
   "execution_count": null,
   "metadata": {},
   "outputs": [],
   "source": [
    "# 축의 시작과 끝을 정한다.\n",
    "f.x_range = Range1d(start = 150, end = 190)     # 가로축 범위.\n",
    "f.y_range = Range1d(start = 40, end = 100)     # 세로축 범위"
   ]
  },
  {
   "cell_type": "code",
   "execution_count": null,
   "metadata": {},
   "outputs": [],
   "source": [
    "# Label과 LabelSet을 정의하고 붙여준다.\n",
    "my_label=Label(x = 155, y = 90, text=\"신장 대 체중 산점도\", text_font_size = '14pt')\n",
    "my_labelset = LabelSet(x=\"height\", y = \"weight\", text =\"name\", text_font_size='8pt', x_offset = 5, y_offset=-2, source = my_data)\n",
    "f.add_layout(my_label)\n",
    "f.add_layout(my_labelset)"
   ]
  },
  {
   "cell_type": "code",
   "execution_count": null,
   "metadata": {},
   "outputs": [],
   "source": [
    "f.circle(x=\"height\", y=\"weight\", fill_alpha=0.5, color=\"green\", size = 10, source=my_data);"
   ]
  },
  {
   "cell_type": "code",
   "execution_count": null,
   "metadata": {},
   "outputs": [],
   "source": [
    "show(f)"
   ]
  },
  {
   "cell_type": "code",
   "execution_count": null,
   "metadata": {},
   "outputs": [],
   "source": []
  }
 ],
 "metadata": {
  "kernelspec": {
   "display_name": "Python 3",
   "language": "python",
   "name": "python3"
  },
  "language_info": {
   "codemirror_mode": {
    "name": "ipython",
    "version": 3
   },
   "file_extension": ".py",
   "mimetype": "text/x-python",
   "name": "python",
   "nbconvert_exporter": "python",
   "pygments_lexer": "ipython3",
   "version": "3.7.6"
  }
 },
 "nbformat": 4,
 "nbformat_minor": 4
}
