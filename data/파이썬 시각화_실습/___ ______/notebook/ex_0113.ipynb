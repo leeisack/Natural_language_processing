{
 "cells": [
  {
   "cell_type": "markdown",
   "metadata": {},
   "source": [
    "### 경계선 그려서 Area Shading (Choropleth Map)"
   ]
  },
  {
   "cell_type": "code",
   "execution_count": null,
   "metadata": {},
   "outputs": [],
   "source": [
    "import folium\n",
    "import json\n",
    "import os\n",
    "import pandas as pd\n",
    "from sklearn.preprocessing import MinMaxScaler"
   ]
  },
  {
   "cell_type": "code",
   "execution_count": null,
   "metadata": {},
   "outputs": [],
   "source": [
    "# 지리정보 JSON 파일을 읽어온다.\n",
    "os.chdir(r'C:\\Users\\sycha_000\\Documents\\교육사업\\20200701_광주인공지능 - A\\04_파이썬 시각화 심화\\data')\n",
    "f = open('geo_seoul.json', encoding='utf8')\n",
    "geo_seoul = json.load(f)\n",
    "f.close()"
   ]
  },
  {
   "cell_type": "code",
   "execution_count": null,
   "metadata": {},
   "outputs": [],
   "source": [
    "# geo_seoul을 한번 훑어본다.\n",
    "geo_seoul"
   ]
  },
  {
   "cell_type": "code",
   "execution_count": null,
   "metadata": {
    "scrolled": true
   },
   "outputs": [],
   "source": [
    "my_kus = []\n",
    "for a_dict in geo_seoul['features']:                            # List of dictionary objects.\n",
    "    my_kus.append(a_dict['id'])                                 # id = 구.\n",
    "print(my_kus)"
   ]
  },
  {
   "cell_type": "code",
   "execution_count": null,
   "metadata": {},
   "outputs": [],
   "source": [
    "# 인구 정보 DataFrame을 읽어 온다.\n",
    "my_data = pd.read_csv(\"data_seoul_population.csv\",header=\"infer\",encoding=\"utf8\")\n",
    "my_data.head(3)"
   ]
  },
  {
   "cell_type": "code",
   "execution_count": null,
   "metadata": {},
   "outputs": [],
   "source": [
    "# '구'는 index로 들어가야 하며, 수치형 변수는 MinMaxScale 해주어야 한다.\n",
    "my_columns = ['세대수','인구','남자','여자']\n",
    "my_scaler = MinMaxScaler()\n",
    "X_scaled = my_scaler.fit_transform(my_data[my_columns])\n",
    "my_data_scaled = pd.DataFrame(X_scaled, columns = my_columns, index = my_data['구'])\n",
    "my_data_scaled.head(3)"
   ]
  },
  {
   "cell_type": "code",
   "execution_count": null,
   "metadata": {},
   "outputs": [],
   "source": [
    "# 인구로 채색한다.\n",
    "my_map = folium.Map(location=[37.5502, 126.982], tiles='Stamen Toner', zoom_start=10)         # [경도, 위도]\n",
    "folium.Choropleth(geo_data=geo_seoul,data=my_data_scaled['인구'],fill_opacity=0.5,fill_color='BuPu',key_on='feature.id').add_to(my_map)\n",
    "my_map"
   ]
  },
  {
   "cell_type": "code",
   "execution_count": null,
   "metadata": {},
   "outputs": [],
   "source": [
    "# 세대수로 채색한다.\n",
    "my_map = folium.Map(location=[37.5502, 126.982], tiles='Stamen Toner', zoom_start=10)         # [경도, 위도]\n",
    "folium.Choropleth(geo_data=geo_seoul,data=my_data_scaled['세대수'],fill_opacity=0.5,fill_color='YlGn',key_on='feature.id').add_to(my_map)\n",
    "my_map"
   ]
  },
  {
   "cell_type": "code",
   "execution_count": null,
   "metadata": {},
   "outputs": [],
   "source": []
  }
 ],
 "metadata": {
  "kernelspec": {
   "display_name": "Python 3",
   "language": "python",
   "name": "python3"
  },
  "language_info": {
   "codemirror_mode": {
    "name": "ipython",
    "version": 3
   },
   "file_extension": ".py",
   "mimetype": "text/x-python",
   "name": "python",
   "nbconvert_exporter": "python",
   "pygments_lexer": "ipython3",
   "version": "3.7.6"
  }
 },
 "nbformat": 4,
 "nbformat_minor": 4
}
