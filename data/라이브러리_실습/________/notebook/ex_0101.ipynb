{
 "cells": [
  {
   "cell_type": "markdown",
   "metadata": {},
   "source": [
    "#### OS모듈 활용:"
   ]
  },
  {
   "cell_type": "code",
   "execution_count": null,
   "metadata": {},
   "outputs": [],
   "source": [
    "# 필요한 패키지 불러오기.\n",
    "import os"
   ]
  },
  {
   "cell_type": "code",
   "execution_count": null,
   "metadata": {},
   "outputs": [],
   "source": [
    "str1 = \"c:\"+ os.path.sep\n",
    "str2 = \"Users\"\n",
    "str3 = \"Public\"\n",
    "str4 = \"Documents\""
   ]
  },
  {
   "cell_type": "code",
   "execution_count": null,
   "metadata": {},
   "outputs": [],
   "source": [
    "# 문자열을 이어붙여서 path를 만든다.\n",
    "str_path = os.path.join(str1, str2, str3, str4)\n",
    "print(os.path.sep)\n",
    "print(str_path)"
   ]
  },
  {
   "cell_type": "code",
   "execution_count": null,
   "metadata": {},
   "outputs": [],
   "source": [
    "# 현 작업 폴더.\n",
    "print(os.getcwd())                   \n",
    "# 새로운 작업 폴더로 이동.\n",
    "os.chdir(str_path)                   \n",
    "# 현 작업 폴더.\n",
    "print(os.getcwd())                   "
   ]
  },
  {
   "cell_type": "code",
   "execution_count": null,
   "metadata": {},
   "outputs": [],
   "source": [
    "# 현 작업 폴더 바탕으로 절대 path 만들기.\n",
    "str_path_abs = os.path.abspath(\"토너주문.txt\")            # 임의의 파일 => 변경 필요.\n",
    "print(str_path_abs)"
   ]
  },
  {
   "cell_type": "code",
   "execution_count": null,
   "metadata": {},
   "outputs": [],
   "source": [
    "# 절대 path 확인.\n",
    "print(os.path.isabs(str_path_abs))\n",
    "# 파일 이름만 가져옴.\n",
    "print(os.path.basename(str_path_abs))\n",
    "# 폴더 부분만 가져옴.\n",
    "print(os.path.dirname(str_path_abs))"
   ]
  },
  {
   "cell_type": "code",
   "execution_count": null,
   "metadata": {},
   "outputs": [],
   "source": [
    "# 폴더인지 확인.\n",
    "print(os.path.isdir(str_path))\n",
    "print(os.path.isdir(str_path_abs))"
   ]
  },
  {
   "cell_type": "code",
   "execution_count": null,
   "metadata": {},
   "outputs": [],
   "source": [
    "# 파일인지 확인.\n",
    "print(os.path.isfile(str_path))\n",
    "print(os.path.isfile(str_path_abs))"
   ]
  },
  {
   "cell_type": "code",
   "execution_count": null,
   "metadata": {},
   "outputs": [],
   "source": [
    "# 파일의 크기.\n",
    "os.chdir(r'C:\\Users\\sycha\\Documents\\교육사업\\데이터 2020\\멋쟁이 사자\\20200701_광주인공지능 - A\\03_파이썬과 라이브러리\\data')\n",
    "os.path.getsize(\"data_coffee.csv\")"
   ]
  },
  {
   "cell_type": "code",
   "execution_count": null,
   "metadata": {},
   "outputs": [],
   "source": [
    "# 현 작업 폴더의 파일 리스팅.\n",
    "list_dir = os.listdir()\n",
    "list_dir.sort()\n",
    "\n",
    "# 'd' 또는 'D' 로 시작하는 파일만 보여줌.\n",
    "for x in list_dir:\n",
    "    if x.lower()[0] == 'd':\n",
    "        print(x)"
   ]
  },
  {
   "cell_type": "code",
   "execution_count": null,
   "metadata": {},
   "outputs": [],
   "source": [
    "# 아직 존재하지 않으면 새로운 서브폴더 만들기.\n",
    "name_subfolder = 'mySubFolder'\n",
    "if not os.path.exists(name_subfolder):\n",
    "    os.makedirs(name_subfolder)"
   ]
  },
  {
   "cell_type": "code",
   "execution_count": null,
   "metadata": {},
   "outputs": [],
   "source": [
    "# 폴더 지우기.\n",
    "os.rmdir(name_subfolder)"
   ]
  },
  {
   "cell_type": "code",
   "execution_count": null,
   "metadata": {},
   "outputs": [],
   "source": [
    "# 파일이 있으면 지우기. \n",
    "if os.path.isfile('test.txt'):\n",
    "    os.unlink('test.txt')"
   ]
  },
  {
   "cell_type": "markdown",
   "metadata": {},
   "source": [
    "트리구조:"
   ]
  },
  {
   "cell_type": "code",
   "execution_count": null,
   "metadata": {},
   "outputs": [],
   "source": [
    "# 현 폴더 이하 트리 구조 출력.\n",
    "for folderName, subFolder, fileName in os.walk(str_path):\n",
    "    print(folderName)\n",
    "#    print(subFolder)\n",
    "#    print(fileName) "
   ]
  },
  {
   "cell_type": "markdown",
   "metadata": {},
   "source": [
    "#### File 기본 입출력:"
   ]
  },
  {
   "cell_type": "code",
   "execution_count": null,
   "metadata": {},
   "outputs": [],
   "source": [
    "os.getcwd()"
   ]
  },
  {
   "cell_type": "code",
   "execution_count": null,
   "metadata": {},
   "outputs": [],
   "source": [
    "f = open('my_file.txt', 'r')   # 읽기 모드로 파일 열기.\n",
    "all = f.read()                 # 모든 내용을 한번에 읽어들임.\n",
    "print(all)                     # 한번에 모두 출력.\n",
    "f.close()                      # 파일 닫음."
   ]
  },
  {
   "cell_type": "code",
   "execution_count": null,
   "metadata": {},
   "outputs": [],
   "source": [
    "f = open('my_file.txt', 'r')   # 읽기 모드로 파일 열기.\n",
    "all = f.read()                 # 모든 내용을 한번에 읽어들임.\n",
    "for line in all:\n",
    "     print(line)               # 라인 하나씩 출력.\n",
    "f.close()                      # 파일 닫음."
   ]
  },
  {
   "cell_type": "code",
   "execution_count": null,
   "metadata": {},
   "outputs": [],
   "source": [
    "f = open('new_file.txt', 'w')  # 쓰기 모드로 파일 열기.\n",
    "f.write('This is a new file.') # 쓰기.\n",
    "f.close()                      # 파일 닫음."
   ]
  },
  {
   "cell_type": "code",
   "execution_count": null,
   "metadata": {},
   "outputs": [],
   "source": [
    "f = open('new_file.txt', 'w')      # 같은 이름의 파일 쓰기 모드로 열기. (덮어쓰기)\n",
    "f.write('This is another file!')   # 쓰기. \n",
    "f.close()                          # 파일 닫음."
   ]
  },
  {
   "cell_type": "code",
   "execution_count": null,
   "metadata": {},
   "outputs": [],
   "source": [
    "f = open('new_file.txt', 'a')       # 추가 모드로 파일 열기.\n",
    "f.write('This is the end!')        # 추가.\n",
    "f.close()                          # 파일 닫음."
   ]
  },
  {
   "cell_type": "markdown",
   "metadata": {},
   "source": [
    "#### Pickle 모듈 활용:"
   ]
  },
  {
   "cell_type": "code",
   "execution_count": null,
   "metadata": {},
   "outputs": [],
   "source": [
    "# 필요한 패키지 불러오기.\n",
    "# 다양한 객체를 저장해 두었다가 불러올 수 있다.\n",
    "import pickle"
   ]
  },
  {
   "cell_type": "code",
   "execution_count": null,
   "metadata": {},
   "outputs": [],
   "source": [
    "x = [1,2,3, {'이름':'임꺽정', '나이':30, '신장':180}]        # 복합 객체."
   ]
  },
  {
   "cell_type": "code",
   "execution_count": null,
   "metadata": {},
   "outputs": [],
   "source": [
    "pickle.dump(x, open('my_pickle.pkl','wb'))                # '절여둔다'"
   ]
  },
  {
   "cell_type": "code",
   "execution_count": null,
   "metadata": {},
   "outputs": [],
   "source": [
    "del x"
   ]
  },
  {
   "cell_type": "code",
   "execution_count": null,
   "metadata": {},
   "outputs": [],
   "source": [
    "new_x = pickle.load(open('my_pickle.pkl','rb'))           # 절여둔 것 가져온다.\n",
    "print(new_x)"
   ]
  },
  {
   "cell_type": "markdown",
   "metadata": {},
   "source": [
    "#### Shelve 모듈 활용:"
   ]
  },
  {
   "cell_type": "code",
   "execution_count": null,
   "metadata": {},
   "outputs": [],
   "source": [
    "# 필요한 패키지 불러오기.\n",
    "# 딕셔너리 형태로 파일 일고 쓰기.\n",
    "import shelve"
   ]
  },
  {
   "cell_type": "code",
   "execution_count": null,
   "metadata": {},
   "outputs": [],
   "source": [
    "# 쓰기.\n",
    "x = shelve.open('MyDict')           # 3개의 바이너리 파일 생성: .bak, .dat, .dir\n",
    "x['이름'] = '홍길동'                  # key-value 짝. \n",
    "x['나이'] = 30\n",
    "x['신장'] = 180\n",
    "x.close()"
   ]
  },
  {
   "cell_type": "code",
   "execution_count": null,
   "metadata": {},
   "outputs": [],
   "source": [
    "# 읽어오기.\n",
    "x = shelve.open('MyDict')\n",
    "print(list(x.keys()))\n",
    "print(list(x.values()))\n",
    "print(list(x.items()))\n",
    "x.close()"
   ]
  },
  {
   "cell_type": "code",
   "execution_count": null,
   "metadata": {},
   "outputs": [],
   "source": []
  }
 ],
 "metadata": {
  "kernelspec": {
   "display_name": "Python 3",
   "language": "python",
   "name": "python3"
  },
  "language_info": {
   "codemirror_mode": {
    "name": "ipython",
    "version": 3
   },
   "file_extension": ".py",
   "mimetype": "text/x-python",
   "name": "python",
   "nbconvert_exporter": "python",
   "pygments_lexer": "ipython3",
   "version": "3.7.6"
  }
 },
 "nbformat": 4,
 "nbformat_minor": 2
}
