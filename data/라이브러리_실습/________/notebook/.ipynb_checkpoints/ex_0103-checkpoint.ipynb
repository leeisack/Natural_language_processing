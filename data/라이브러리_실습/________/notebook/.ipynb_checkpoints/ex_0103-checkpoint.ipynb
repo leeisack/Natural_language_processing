{
 "cells": [
  {
   "cell_type": "markdown",
   "metadata": {},
   "source": [
    "#### WORD 문서 컨트롤:"
   ]
  },
  {
   "cell_type": "code",
   "execution_count": null,
   "metadata": {},
   "outputs": [],
   "source": [
    "# 필요한 패키지를 설치한다.\n",
    "#!pip install python-docx"
   ]
  },
  {
   "cell_type": "code",
   "execution_count": null,
   "metadata": {
    "scrolled": true
   },
   "outputs": [],
   "source": [
    "import docx\n",
    "import os"
   ]
  },
  {
   "cell_type": "code",
   "execution_count": null,
   "metadata": {},
   "outputs": [],
   "source": [
    "# Word 문서 오픈!\n",
    "os.chdir(r'C:\\Users\\sycha\\Documents\\교육사업\\데이터 2020\\멋쟁이 사자\\20200701_광주인공지능 - A\\03_파이썬과 라이브러리\\data')\n",
    "my_doc = docx.Document('디자인 씽킹이란.docx')"
   ]
  },
  {
   "cell_type": "code",
   "execution_count": null,
   "metadata": {},
   "outputs": [],
   "source": [
    "n = len(my_doc.paragraphs)                  # 단락의 개수\n",
    "print(n)\n",
    "print(my_doc.paragraphs[0].text)            # 특정 단락의 내용.\n",
    "print(my_doc.paragraphs[11].text)            # 특정 단락의 내용.\n",
    "print(my_doc.paragraphs[33].text)            # 특정 단락의 내용."
   ]
  },
  {
   "cell_type": "code",
   "execution_count": null,
   "metadata": {},
   "outputs": [],
   "source": [
    "# 스타일이 바뀌면 새로운 run 시작.\n",
    "m = len(my_doc.paragraphs[33].runs)         # 특정 단락의 run의 개수.\n",
    "print(m)"
   ]
  },
  {
   "cell_type": "code",
   "execution_count": null,
   "metadata": {},
   "outputs": [],
   "source": [
    "# run에는 text, bold, italic, underline 등의 속성이 있다. \n",
    "print(my_doc.paragraphs[33].runs[10].text)  # 특정 run의 text 내용."
   ]
  },
  {
   "cell_type": "code",
   "execution_count": null,
   "metadata": {},
   "outputs": [],
   "source": [
    "# 문서 내용을 다 출력해 주는 함수를 정의한다.\n",
    "def getFullText(filename):\n",
    "    a_doc = docx.Document(filename)\n",
    "    fullText = []\n",
    "    for a_para in a_doc.paragraphs:\n",
    "        fullText.append(a_para.text)\n",
    "    return '\\n'.join(fullText)"
   ]
  },
  {
   "cell_type": "code",
   "execution_count": null,
   "metadata": {},
   "outputs": [],
   "source": [
    "# 위에서 정의한 함수를 사용하여 문서를 출력해 본다.\n",
    "print(getFullText('디자인 씽킹이란.docx'))"
   ]
  },
  {
   "cell_type": "markdown",
   "metadata": {},
   "source": [
    "#### 새로운 Word 문서를 생성하여 저장하기"
   ]
  },
  {
   "cell_type": "code",
   "execution_count": null,
   "metadata": {},
   "outputs": [],
   "source": [
    "# 새로운 Word 문서 객체.\n",
    "my_new_doc = docx.Document()\n",
    "\n",
    "# Paragraph 추가.\n",
    "my_new_doc.add_paragraph(\"My first paragraph!\")\n",
    "my_new_doc.add_paragraph(\"My second paragraph!\")\n",
    "my_new_doc.add_paragraph(\"My third paragraph!\")\n",
    "\n",
    "# File로 저장.\n",
    "my_new_doc.save(\"my_new_doc.docx\")"
   ]
  },
  {
   "cell_type": "code",
   "execution_count": null,
   "metadata": {},
   "outputs": [],
   "source": []
  }
 ],
 "metadata": {
  "kernelspec": {
   "display_name": "Python 3",
   "language": "python",
   "name": "python3"
  },
  "language_info": {
   "codemirror_mode": {
    "name": "ipython",
    "version": 3
   },
   "file_extension": ".py",
   "mimetype": "text/x-python",
   "name": "python",
   "nbconvert_exporter": "python",
   "pygments_lexer": "ipython3",
   "version": "3.7.6"
  }
 },
 "nbformat": 4,
 "nbformat_minor": 2
}
