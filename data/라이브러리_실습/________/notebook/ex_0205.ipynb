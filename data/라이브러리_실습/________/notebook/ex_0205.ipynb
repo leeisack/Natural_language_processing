{
 "cells": [
  {
   "cell_type": "markdown",
   "metadata": {},
   "source": [
    "### Matplotlib 시각화 중급"
   ]
  },
  {
   "cell_type": "code",
   "execution_count": null,
   "metadata": {},
   "outputs": [],
   "source": [
    "import matplotlib.pyplot as plt\n",
    "import numpy as np\n",
    "%matplotlib inline"
   ]
  },
  {
   "cell_type": "markdown",
   "metadata": {},
   "source": [
    "#### 객체 지향형 시각화:"
   ]
  },
  {
   "cell_type": "code",
   "execution_count": null,
   "metadata": {},
   "outputs": [],
   "source": [
    "x = np.linspace(0,10,100)\n",
    "y = np.sin(x)\n",
    "z = np.cos(x)"
   ]
  },
  {
   "cell_type": "code",
   "execution_count": null,
   "metadata": {},
   "outputs": [],
   "source": [
    "fig0=plt.figure()\n",
    "axes0 = fig0.add_axes([0,0,1,1])             # Left, Bottom, Width, Height\n",
    "axes0.plot(x,y,color='red',linestyle='-')\n",
    "axes0.set_xlabel('X')\n",
    "axes0.set_ylabel('Y')\n",
    "axes0.set_title('LINE PLOT')\n",
    "plt.show()"
   ]
  },
  {
   "cell_type": "code",
   "execution_count": null,
   "metadata": {},
   "outputs": [],
   "source": [
    "fig0=plt.figure()\n",
    "axes0 = fig0.add_axes([0,0,1,1])             # Left, Bottom, Width, Height\n",
    "axes0.plot(x,y,color='purple',linestyle='-')\n",
    "axes0.set_xlabel('X')\n",
    "axes0.set_ylabel('Y')\n",
    "axes0.set_title('LINE PLOT')\n",
    "axes0.set_xlim([0,5])                        # 가로 방향 범위.\n",
    "axes0.set_ylim([-2,2])                       # 세로 방향 범위.\n",
    "plt.show()"
   ]
  },
  {
   "cell_type": "markdown",
   "metadata": {},
   "source": [
    "#### figsize인자를 통한 비율 조정:"
   ]
  },
  {
   "cell_type": "code",
   "execution_count": null,
   "metadata": {},
   "outputs": [],
   "source": [
    "fig0=plt.figure(figsize=(10,2))              # 가로, 세로 크기.\n",
    "axes0 = fig0.add_axes([0,0,1,1])             # Left, Bottom, Width, Height\n",
    "axes0.plot(x,y,color='red',linestyle='-')\n",
    "axes0.set_xlabel('X')\n",
    "axes0.set_ylabel('Y')\n",
    "axes0.set_title('LINE PLOT')\n",
    "plt.show()"
   ]
  },
  {
   "cell_type": "markdown",
   "metadata": {},
   "source": [
    "#### 하나의 패널에 다중 시각화 (범례 사용):"
   ]
  },
  {
   "cell_type": "code",
   "execution_count": null,
   "metadata": {},
   "outputs": [],
   "source": [
    "fig0=plt.figure(figsize=(8,5), dpi=100)      # 가로, 세로 크기. DPI 세팅.\n",
    "axes0 = fig0.add_axes([0,0,1,1])             # Left, Bottom, Width, Height\n",
    "axes0.plot(x,y,color='red',linestyle=':', label='Sin')           # 범례를 위한 label 인자.\n",
    "axes0.plot(x,z,color='blue',linestyle='-.', label='Cos')        # 범례를 위한 label 인자.\n",
    "axes0.legend(loc=0)                                             # Top-Right에 범례 출력.\n",
    "axes0.set_xlabel('X')\n",
    "axes0.set_ylabel('Y')\n",
    "axes0.set_title('LINE PLOT')\n",
    "plt.show()"
   ]
  },
  {
   "cell_type": "markdown",
   "metadata": {},
   "source": [
    "#### 외부 파일로 출력:"
   ]
  },
  {
   "cell_type": "code",
   "execution_count": null,
   "metadata": {},
   "outputs": [],
   "source": [
    "fig0.savefig('my_fig.png')"
   ]
  },
  {
   "cell_type": "markdown",
   "metadata": {},
   "source": [
    "#### 여러개의 패널이 있는 다중 시각화 1:"
   ]
  },
  {
   "cell_type": "code",
   "execution_count": null,
   "metadata": {},
   "outputs": [],
   "source": [
    "fig0=plt.figure(figsize=(10,5), dpi=80)       # 가로, 세로 크기. DPI 세팅.\n",
    "axes1 = fig0.add_axes([0,0,0.3,1])            # Left, Bottom, Width, Height\n",
    "axes2 = fig0.add_axes([0.5,0,0.3,1])          # Left, Bottom, Width, Height\n",
    "axes1.plot(x,y,color='red',linestyle=':')  \n",
    "axes2.plot(x,y,color='blue',linestyle='-.')\n",
    "axes1.set_xlabel('X')\n",
    "axes1.set_ylabel('Y')\n",
    "axes1.set_title('SINE')\n",
    "axes2.set_xlabel('X')\n",
    "axes2.set_ylabel('Y')\n",
    "axes2.set_title('COSINE')\n",
    "plt.show()"
   ]
  },
  {
   "cell_type": "code",
   "execution_count": null,
   "metadata": {},
   "outputs": [],
   "source": [
    "fig0=plt.figure(figsize=(10,5), dpi=80)          # 가로, 세로 크기. DPI 세팅.\n",
    "axes1 = fig0.add_axes([0,0.5,0.2,0.5])           # Left, Bottom, Width, Height\n",
    "axes2 = fig0.add_axes([0.5,0,0.2,0.5])           # Left, Bottom, Width, Height\n",
    "axes1.plot(x,y,color='green',linestyle=':')  \n",
    "axes2.plot(x,z,linestyle='none',marker='o',markersize=10,markerfacecolor='blue',markeredgecolor='red',alpha=0.5)\n",
    "axes1.set_xlabel('X')\n",
    "axes1.set_ylabel('Y')\n",
    "axes1.set_title('SINE')\n",
    "axes2.set_xlabel('X')\n",
    "axes2.set_ylabel('Y')\n",
    "axes2.set_title('COSINE')\n",
    "plt.show()"
   ]
  },
  {
   "cell_type": "markdown",
   "metadata": {},
   "source": [
    "#### 여러개의 패널이 있는 다중 시각화 2:"
   ]
  },
  {
   "cell_type": "code",
   "execution_count": null,
   "metadata": {},
   "outputs": [],
   "source": [
    "fig, axes = plt.subplots(nrows=2, ncols=2, figsize=(10,10))\n",
    "# (0,0)\n",
    "axes[0,0].plot(x,y,color='green',linestyle=':')  \n",
    "axes[0,0].set_xlabel('X')\n",
    "axes[0,0].set_ylabel('Y')\n",
    "axes[0,0].set_title('SINE')\n",
    "# (0,1)\n",
    "axes[0,1].plot(x,z,linestyle='none',marker='o',markersize=10,markerfacecolor='blue',markeredgecolor='red',alpha=0.5)\n",
    "axes[0,1].set_xlabel('X')\n",
    "axes[0,1].set_ylabel('Y')\n",
    "axes[0,1].set_title('COSINE')\n",
    "# (1,0)\n",
    "a = np.array(['Q1', 'Q2', 'Q3','Q4'])\n",
    "b = np.array([ 234.0, 254.7, 144.6, 317.6])\n",
    "axes[1,0].bar(a,b,color='green',alpha=0.5)\n",
    "axes[1,0].set_title('BAR CHART')\n",
    "# (1,1)\n",
    "c = np.random.randn(10000)\n",
    "axes[1,1].hist(c,bins=100,color='blue',density=True,alpha=0.3)\n",
    "axes[1,1].set_title('HISTOGRAM')\n",
    "\n",
    "plt.tight_layout()                             # 서로 겹치는 현상을 피함.\n",
    "plt.show()"
   ]
  },
  {
   "cell_type": "code",
   "execution_count": null,
   "metadata": {},
   "outputs": [],
   "source": [
    "fig.savefig('my_fig2.png')                           # 출력."
   ]
  }
 ],
 "metadata": {
  "kernelspec": {
   "display_name": "Python 3",
   "language": "python",
   "name": "python3"
  },
  "language_info": {
   "codemirror_mode": {
    "name": "ipython",
    "version": 3
   },
   "file_extension": ".py",
   "mimetype": "text/x-python",
   "name": "python",
   "nbconvert_exporter": "python",
   "pygments_lexer": "ipython3",
   "version": "3.7.6"
  }
 },
 "nbformat": 4,
 "nbformat_minor": 2
}
