{
 "cells": [
  {
   "cell_type": "markdown",
   "metadata": {},
   "source": [
    "#### PDF 컨트롤:"
   ]
  },
  {
   "cell_type": "code",
   "execution_count": null,
   "metadata": {},
   "outputs": [],
   "source": [
    "# 필요한 패키지를 설치한다.\n",
    "#!pip install PyPDF2"
   ]
  },
  {
   "cell_type": "code",
   "execution_count": null,
   "metadata": {},
   "outputs": [],
   "source": [
    "import PyPDF2\n",
    "import os"
   ]
  },
  {
   "cell_type": "code",
   "execution_count": null,
   "metadata": {
    "scrolled": true
   },
   "outputs": [],
   "source": [
    "# Read as Binary로 오픈!\n",
    "os.chdir(r'C:\\Users\\sycha\\Documents\\교육사업\\데이터 2020\\멋쟁이 사자\\20200701_광주인공지능 - A\\03_파이썬과 라이브러리\\data')\n",
    "my_doc1 = open('Galaxy S6 manual.pdf', 'rb')      \n",
    "my_doc2 = open('MSE - Jacob.pdf', 'rb') "
   ]
  },
  {
   "cell_type": "code",
   "execution_count": null,
   "metadata": {},
   "outputs": [],
   "source": [
    "# 읽기 전용 PDF 객체.\n",
    "my_reader1 = PyPDF2.PdfFileReader(my_doc1)                \n",
    "my_reader2 = PyPDF2.PdfFileReader(my_doc2)\n",
    "n1 = my_reader1.numPages\n",
    "n2 = my_reader2.numPages\n",
    "print(n1)                                      # 페이지 수 출력.\n",
    "print(n2)                                      # 페이지 수 출력."
   ]
  },
  {
   "cell_type": "code",
   "execution_count": null,
   "metadata": {},
   "outputs": [],
   "source": [
    "my_page = my_reader1.getPage(17)               # 17 쪽.\n",
    "print(my_page.extractText())                   # 내용 추출 (어려울 수 있음)"
   ]
  },
  {
   "cell_type": "code",
   "execution_count": null,
   "metadata": {},
   "outputs": [],
   "source": [
    "# 쓰기 전용 PDF 객체.\n",
    "my_writer = PyPDF2.PdfFileWriter()\n",
    "\n",
    "# 두개의 PDF를 이어 붙인다.\n",
    "for i in range(n1):\n",
    "    a_page = my_reader1.getPage(i)\n",
    "    my_writer.addPage(a_page)\n",
    "for i in range(n2):\n",
    "    a_page = my_reader2.getPage(i)\n",
    "    my_writer.addPage(a_page)"
   ]
  },
  {
   "cell_type": "code",
   "execution_count": null,
   "metadata": {},
   "outputs": [],
   "source": [
    "# 외부 파일로 출력.\n",
    "f = open('my_merged.pdf','wb')         \n",
    "my_writer.write(f)\n",
    "f.close()"
   ]
  }
 ],
 "metadata": {
  "kernelspec": {
   "display_name": "Python 3",
   "language": "python",
   "name": "python3"
  },
  "language_info": {
   "codemirror_mode": {
    "name": "ipython",
    "version": 3
   },
   "file_extension": ".py",
   "mimetype": "text/x-python",
   "name": "python",
   "nbconvert_exporter": "python",
   "pygments_lexer": "ipython3",
   "version": "3.7.6"
  }
 },
 "nbformat": 4,
 "nbformat_minor": 2
}
