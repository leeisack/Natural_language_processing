{
 "cells": [
  {
   "cell_type": "markdown",
   "metadata": {},
   "source": [
    "#### Excel 스프레드시트 컨트롤:"
   ]
  },
  {
   "cell_type": "code",
   "execution_count": null,
   "metadata": {},
   "outputs": [],
   "source": [
    "# 필요한 패키지를 불러온다.\n",
    "import openpyxl\n",
    "import os\n",
    "os.chdir(r'C:\\Users\\sycha\\Documents\\교육사업\\데이터 2020\\멋쟁이 사자\\20200701_광주인공지능 - A\\03_파이썬과 라이브러리\\data')"
   ]
  },
  {
   "cell_type": "code",
   "execution_count": null,
   "metadata": {},
   "outputs": [],
   "source": [
    "wb = openpyxl.load_workbook('my_excel.xlsx')      # Workbook을 객체로 가져옴.\n",
    "wb.sheetnames                                     # Sheet이름을 list로 가져옴."
   ]
  },
  {
   "cell_type": "code",
   "execution_count": null,
   "metadata": {},
   "outputs": [],
   "source": [
    "sh = wb['Sheet1']                                 # Sheet1을 객체로 가져옴.\n",
    "cl = sh['A1']                                     # 'A1' Cell 객체.\n",
    "print(cl.value)            \n",
    "print(sh['A1'].value)                             # A1셀의 값을 가져오기.\n",
    "print(sh.cell(1,1).value)                         # 행과 열의 위치로 값을 가져오기."
   ]
  },
  {
   "cell_type": "code",
   "execution_count": null,
   "metadata": {},
   "outputs": [],
   "source": [
    "# 여러 셀에서 값을 가져와서 출력해 본다.\n",
    "for i in range(1,11):\n",
    "     print(sh.cell(i,1).value )"
   ]
  },
  {
   "cell_type": "code",
   "execution_count": null,
   "metadata": {},
   "outputs": [],
   "source": [
    "# 새롭게 워크북을 생성한다.\n",
    "my_wb = openpyxl.Workbook()           # 메모리 안에서만 존재.\n",
    "print(my_wb.sheetnames)               # 신규 워크북에는 'Sheet'만 있음."
   ]
  },
  {
   "cell_type": "code",
   "execution_count": null,
   "metadata": {},
   "outputs": [],
   "source": [
    "my_sh = my_wb['Sheet']                  \n",
    "my_sh['A1'].value = 999                  # 새로운 값 대입.\n",
    "my_sh['A2'] = 666                        # OK.\n",
    "my_sh.title = 'MySheet1'\n",
    "my_sh2 = my_wb.create_sheet(index = 0, title = 'MySheet2')\n",
    "my_sh2['A1'].value = 777                 # 새로운 값 대입.\n",
    "print(my_wb.sheetnames)"
   ]
  },
  {
   "cell_type": "code",
   "execution_count": null,
   "metadata": {},
   "outputs": [],
   "source": [
    "# 메모리 안에 있는 워크북을 저장한다.\n",
    "my_wb.save('my_new_excel.xlsx')"
   ]
  },
  {
   "cell_type": "code",
   "execution_count": null,
   "metadata": {},
   "outputs": [],
   "source": []
  }
 ],
 "metadata": {
  "kernelspec": {
   "display_name": "Python 3",
   "language": "python",
   "name": "python3"
  },
  "language_info": {
   "codemirror_mode": {
    "name": "ipython",
    "version": 3
   },
   "file_extension": ".py",
   "mimetype": "text/x-python",
   "name": "python",
   "nbconvert_exporter": "python",
   "pygments_lexer": "ipython3",
   "version": "3.7.6"
  }
 },
 "nbformat": 4,
 "nbformat_minor": 2
}
