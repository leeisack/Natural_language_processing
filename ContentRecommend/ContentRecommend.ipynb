{
  "nbformat": 4,
  "nbformat_minor": 0,
  "metadata": {
    "colab": {
      "name": "Untitled9.ipynb",
      "provenance": [],
      "private_outputs": true,
      "collapsed_sections": []
    },
    "kernelspec": {
      "name": "python3",
      "display_name": "Python 3"
    }
  },
  "cells": [
    {
      "cell_type": "code",
      "metadata": {
        "id": "lGpstJGGAcwt",
        "colab_type": "code",
        "colab": {}
      },
      "source": [
        "import pandas as pd\n",
        "import numpy as np\n",
        "from ast import literal_eval"
      ],
      "execution_count": null,
      "outputs": []
    },
    {
      "cell_type": "code",
      "metadata": {
        "id": "evbHUb1PuR51",
        "colab_type": "code",
        "colab": {}
      },
      "source": [
        "# pd.set_option('display.max_columns', 20)\n",
        "# pd.set_option('display.width', 1000)\n",
        "\n",
        "movies = pd.read_csv('./drive/My Drive/tmdb_5000_movies.csv')\n",
        "movies = movies.loc[:, ['title', 'genres', 'keywords']]\n",
        "\n",
        "# 문자열 -> 딕셔너리 형태로 변환\n",
        "movies['genres'] = movies['genres'].apply(literal_eval)\n",
        "movies['keywords'] = movies['keywords'].apply(literal_eval)\n",
        "\n",
        "# i = 0\n",
        "# for row in movies['genres']:\n",
        "#     genres = []\n",
        "#     for ele in row:\n",
        "#         genres.append(ele['name'])\n",
        "#     movies['genres'][i] = genres\n",
        "#     i = i + 1\n",
        "\n",
        "# 딕셔너리 형태를 깔끔하게 장르에 해당하는 부분만 뽑아서 문자열화\n",
        "# [{}, {}, {}, {}] -> [장르, 장르, 장르, 장르]\n",
        "movies['genres'] = movies['genres'].apply(lambda x : [y['name'] for y in x])\n",
        "movies['keywords'] = movies['keywords'].apply(lambda x : [y['name'] for y in x])\n",
        "\n",
        "# [장르, 장르, 장르, 장르] -> 장르 장르 장르 장르\n",
        "movies['genres'] = movies['genres'].apply(lambda x : ' '.join(x))\n",
        "movies['keywords'] = movies['keywords'].apply(lambda x : ' '.join(x))\n",
        "\n",
        "print(movies)"
      ],
      "execution_count": null,
      "outputs": []
    },
    {
      "cell_type": "markdown",
      "metadata": {
        "id": "aRCXZm9yBRvY",
        "colab_type": "text"
      },
      "source": [
        "# TFIDF"
      ]
    },
    {
      "cell_type": "code",
      "metadata": {
        "id": "FbiJL-BkxfQS",
        "colab_type": "code",
        "colab": {}
      },
      "source": [
        "from sklearn.feature_extraction.text import TfidfVectorizer\n",
        "# ngram_range=(1, 2) 는 단어를 1개 혹은 2개 연속으로 보겠다\n",
        "tfidf_vec = TfidfVectorizer(ngram_range=(1, 2))\n",
        "tfidf_matrix = tfidf_vec.fit_transform(movies['keywords'])\n",
        "print(tfidf_vec.vocabulary_.items())\n",
        "# 4803은 영화의 개수, 276은 단어의 개수 -> 하나의 영화를 276개 열을 가진 벡터로 표현\n",
        "print(tfidf_matrix.shape)\n",
        "\n",
        "# action adventure fantasy\n",
        "# adventure fantasy\n",
        "# adventure\n",
        "# fantasy"
      ],
      "execution_count": null,
      "outputs": []
    },
    {
      "cell_type": "code",
      "metadata": {
        "id": "SMF-V9svy4Lj",
        "colab_type": "code",
        "colab": {}
      },
      "source": [
        "# 유사도 행렬 (4803, 4803)\n",
        "# 1, 1 (1번째 영화와 1번재 영화의 유사도)\n",
        "# 1, 1 / 1, 2 / .... / 1, 4803 -> 1번째 영화와 1~4803번재 영화의 유사도\n",
        "# 2, 1 / 2, 2 / .... / 2, 4803 -> 2번째 영화와 1~4803번째 영화의 유사도\n",
        "# ....\n",
        "# 4803, 1 / 4803, 2 / .... / 4803, 4803 -> 4803번째 영화와 1~4803번째 영화의 유사도\n",
        "from sklearn.metrics.pairwise import cosine_similarity\n",
        "\n",
        "# 4803개의 영화랑 4803개의 영화끼리 유사도를 구하겠다!\n",
        "# 자신과의 유사도는 1\n",
        "genres_similarity = cosine_similarity(tfidf_matrix, tfidf_matrix)\n",
        "print(genres_similarity)\n",
        "# 유사도 값이 높은 영화의 제목\n",
        "# 유사도 값이 높은 순으로 인덱스 값을 뽑아낸다\n",
        "similar_index = np.argsort(-genres_similarity)\n",
        "print(similar_index)"
      ],
      "execution_count": null,
      "outputs": []
    },
    {
      "cell_type": "markdown",
      "metadata": {
        "id": "7n2pCrrHBT_W",
        "colab_type": "text"
      },
      "source": [
        "# Count (빈도수)"
      ]
    },
    {
      "cell_type": "code",
      "metadata": {
        "id": "88X62zvT2sMe",
        "colab_type": "code",
        "colab": {}
      },
      "source": [
        "from sklearn.feature_extraction.text import CountVectorizer\n",
        "count_vec = CountVectorizer(ngram_range=(1, 2))\n",
        "count_matrix = count_vec.fit_transform(movies['keywords'])\n",
        "print(count_matrix)"
      ],
      "execution_count": null,
      "outputs": []
    },
    {
      "cell_type": "code",
      "metadata": {
        "id": "7Vcjls_33COv",
        "colab_type": "code",
        "colab": {}
      },
      "source": [
        "# 유사도 행렬 (4803, 4803)\n",
        "# 1, 1 (1번째 영화와 1번째 영화의 유사도)\n",
        "# 1, 1 / 1, 2 / .... / 1, 4803\n",
        "# 2, 1 / 2, 2 / .... / 2, 4803\n",
        "# .....\n",
        "# 4803, 1 / 4803, 2 / .... / 4803, 4803\n",
        "from sklearn.metrics.pairwise import cosine_similarity\n",
        "\n",
        "# 4803개의 영화랑 4803개의 영화끼리 유사도를 구하겠다!\n",
        "genres_similarity = cosine_similarity(count_matrix, count_matrix)\n",
        "print(genres_similarity)\n",
        "# 유사도가 높은 영화를 알고 싶다!\n",
        "# 유사도 값이 높은 것의 인덱스를 내림차순으로 출력/리턴\n",
        "similar_index = np.argsort(-genres_similarity)\n",
        "print(similar_index)"
      ],
      "execution_count": null,
      "outputs": []
    },
    {
      "cell_type": "code",
      "metadata": {
        "id": "uMykm8LC0dlt",
        "colab_type": "code",
        "colab": {}
      },
      "source": [
        "# 사용자가 입력한 영화의 인덱스 값을 찾아내고\n",
        "# similar_index 에 기록된 유사한 영화 인덱스를 찾아내고\n",
        "# 유사한 영화 인덱스를 토대로 영화 이름을 찾아내면 된다!\n",
        "input_movie = input()\n",
        "\n",
        "movie_index = movies[movies['title']==input_movie].index.values\n",
        "print(movie_index)\n",
        "similar_movies = similar_index[movie_index, :10]\n",
        "print(similar_movies)\n",
        "# 인덱스로 사용하기 위해서는 1차원으로 변형해줘야하기 때문\n",
        "similar_movies_index = similar_movies.reshape(-1)\n",
        "print(similar_movies_index)\n",
        "print(movies.iloc[similar_movies_index])"
      ],
      "execution_count": null,
      "outputs": []
    }
  ]
}