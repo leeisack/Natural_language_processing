{
  "nbformat": 4,
  "nbformat_minor": 0,
  "metadata": {
    "colab": {
      "name": "Untitled13.ipynb",
      "provenance": [],
      "private_outputs": true,
      "collapsed_sections": []
    },
    "kernelspec": {
      "name": "python3",
      "display_name": "Python 3"
    }
  },
  "cells": [
    {
      "cell_type": "markdown",
      "metadata": {
        "id": "_SZbNBoLSMYo",
        "colab_type": "text"
      },
      "source": [
        "# Surprise 모듈"
      ]
    },
    {
      "cell_type": "code",
      "metadata": {
        "id": "SZk48CiylUcw",
        "colab_type": "code",
        "colab": {}
      },
      "source": [
        "!pip install scikit-surprise"
      ],
      "execution_count": null,
      "outputs": []
    },
    {
      "cell_type": "code",
      "metadata": {
        "id": "0Von8ZG3lcga",
        "colab_type": "code",
        "colab": {}
      },
      "source": [
        "import pandas as pd\n",
        "# SVD 말그대로 SVD를 통한 행렬 분해를 시키는 함수 -> 객체는 predict, fit, test\n",
        "# Dataset은 surprise 모듈에서 사용가능하도록 데이터를 불러오는 함수\n",
        "# accuracy는 정확도를 구하는 함수\n",
        "# Reader는 데이터를 읽을 때 어떻게 읽을지를 명시하는 함수 \n",
        "from surprise import SVD, Dataset, accuracy, Reader\n",
        "from surprise.model_selection import train_test_split"
      ],
      "execution_count": null,
      "outputs": []
    },
    {
      "cell_type": "code",
      "metadata": {
        "id": "wOWX7nR6mCNc",
        "colab_type": "code",
        "colab": {}
      },
      "source": [
        "ratings = pd.read_csv('./drive/My Drive/ratings.csv')\n",
        "# print(ratings)\n",
        "reader = Reader(rating_scale=(1.0, 5.0))\n",
        "data = Dataset.load_from_df(df=ratings[['userId', 'movieId', 'rating']], reader=reader)\n",
        "print(data)"
      ],
      "execution_count": null,
      "outputs": []
    },
    {
      "cell_type": "code",
      "metadata": {
        "id": "Q63kSuAfmzGi",
        "colab_type": "code",
        "colab": {}
      },
      "source": [
        "train, test = train_test_split(data, test_size=0.2, shuffle=True)\n",
        "\n",
        "# 분해한 행렬을 연산했을 때 trainset 데이터 (평점) 에 가깝도록 행렬을 분해\n",
        "algo = SVD(n_factors=50, n_epochs=20)\n",
        "algo.fit(trainset=train)"
      ],
      "execution_count": null,
      "outputs": []
    },
    {
      "cell_type": "code",
      "metadata": {
        "id": "PMLKIhmcn0qq",
        "colab_type": "code",
        "colab": {}
      },
      "source": [
        "pred = algo.test(testset=test)\n",
        "print(pred[0:3])\n",
        "accuracy.rmse(predictions=pred)"
      ],
      "execution_count": null,
      "outputs": []
    },
    {
      "cell_type": "code",
      "metadata": {
        "id": "f1OmYxNCoPQd",
        "colab_type": "code",
        "colab": {}
      },
      "source": [
        "# 분해된 행렬을 연산을 해서 예측값을 도출해냄\n",
        "pred = algo.predict('10', '200')\n",
        "print(pred)"
      ],
      "execution_count": null,
      "outputs": []
    },
    {
      "cell_type": "code",
      "metadata": {
        "id": "h2tPco4boog5",
        "colab_type": "code",
        "colab": {}
      },
      "source": [
        "# 10번 유저에 대해서 모든 영화에 부여할 평점을 예측하고,\n",
        "# 그 평점을 높은 순으로 정렬\n",
        "preds = []\n",
        "for i in ratings['movieId'].unique():\n",
        "    pred = algo.predict('10', i)\n",
        "    preds.append((pred.est, pred.iid))\n",
        "print(preds)"
      ],
      "execution_count": null,
      "outputs": []
    },
    {
      "cell_type": "code",
      "metadata": {
        "id": "f7eKVGR8pTyK",
        "colab_type": "code",
        "colab": {}
      },
      "source": [
        "preds.sort(reverse=True)\n",
        "print(preds)"
      ],
      "execution_count": null,
      "outputs": []
    },
    {
      "cell_type": "code",
      "metadata": {
        "id": "JIAW_9Thpknx",
        "colab_type": "code",
        "colab": {}
      },
      "source": [
        "movies = pd.read_csv('./drive/My Drive/movies.csv')\n",
        "print(movies[movies['movieId']==858])"
      ],
      "execution_count": null,
      "outputs": []
    },
    {
      "cell_type": "markdown",
      "metadata": {
        "id": "pCHFMH6sqtGF",
        "colab_type": "text"
      },
      "source": [
        "# 유튜브 추천 시스템"
      ]
    },
    {
      "cell_type": "code",
      "metadata": {
        "id": "kFDSDR08qvK9",
        "colab_type": "code",
        "colab": {}
      },
      "source": [
        "# x값으로 사용자 히스토리 (시청한 내역, 좋아요, 싫어요) 를 넣으면,\n",
        "# y값으로 해당 사용자가 다음으로 볼 영상의 인덱스\n",
        "import pandas as pd\n",
        "movies = pd.read_csv('./drive/My Drive/movies.csv')\n",
        "ratings = pd.read_csv('./drive/My Drive/ratings.csv')\n",
        "\n",
        "movie_ratings = pd.merge(movies, ratings, on='movieId')\n",
        "print(movie_ratings)"
      ],
      "execution_count": null,
      "outputs": []
    },
    {
      "cell_type": "code",
      "metadata": {
        "id": "iNbb9Sr4tNef",
        "colab_type": "code",
        "colab": {}
      },
      "source": [
        "import numpy as np\n",
        "movie_ratings['movie_type'] = np.where(movie_ratings['rating'] >= 3, 'like', 'dislike')\n",
        "print(movie_ratings)"
      ],
      "execution_count": null,
      "outputs": []
    },
    {
      "cell_type": "code",
      "metadata": {
        "id": "5m2HMBREtuVk",
        "colab_type": "code",
        "colab": {}
      },
      "source": [
        "# userId, movieId 를 정수 인코딩\n",
        "user_ids = movie_ratings[\"userId\"].unique().tolist()\n",
        "user_to_index = {x: i for i, x in enumerate(user_ids)}\n",
        "index_to_user = {i: x for i, x in enumerate(user_ids)}\n",
        "\n",
        "movie_ids = movie_ratings[\"movieId\"].unique().tolist()\n",
        "movie_to_index = {x: i for i, x in enumerate(movie_ids)}\n",
        "index_to_movie = {i: x for i, x in enumerate(movie_ids)}\n",
        "\n",
        "print(user_to_index)\n",
        "print(movie_to_index)"
      ],
      "execution_count": null,
      "outputs": []
    },
    {
      "cell_type": "code",
      "metadata": {
        "id": "bfemSMpoueNR",
        "colab_type": "code",
        "colab": {}
      },
      "source": [
        "movie_ratings['userId'] = movie_ratings['userId'].map(user_to_index)\n",
        "movie_ratings['movieId'] = movie_ratings['movieId'].map(movie_to_index)\n",
        "print(movie_ratings)"
      ],
      "execution_count": null,
      "outputs": []
    },
    {
      "cell_type": "code",
      "metadata": {
        "id": "sdTGFXaFuw-Y",
        "colab_type": "code",
        "colab": {}
      },
      "source": [
        "# 사용자 별로 어떤 영상을 좋아했고, 싫어했고, 시청했는지\n",
        "movie_list = movie_ratings.groupby(['userId', 'movie_type'])['movieId'].apply(list).reset_index()\n",
        "title_list = movie_ratings.groupby(['userId'])['movieId'].apply(list).reset_index()\n",
        "print(movie_list)\n",
        "print(title_list)"
      ],
      "execution_count": null,
      "outputs": []
    },
    {
      "cell_type": "code",
      "metadata": {
        "id": "hEVsNj17vRHg",
        "colab_type": "code",
        "colab": {}
      },
      "source": [
        "# 사용자 별로 어떤 영상을 좋아했고, 싫어했는지\n",
        "user_movie_list = movie_list.pivot(index='userId', columns='movie_type', values='movieId').reset_index()\n",
        "print(user_movie_list)"
      ],
      "execution_count": null,
      "outputs": []
    },
    {
      "cell_type": "code",
      "metadata": {
        "id": "xsbqxw9yvkI0",
        "colab_type": "code",
        "colab": {}
      },
      "source": [
        "# 어떤 사용자가 아무런 영상도 보지 않았다면? -> NaN\n",
        "# 결측치 값을 채워줄건데 -> dummy 영화id -> 9066\n",
        "# 리스트 형태로 행들을 맞춰줄건데... fillna 함수는 list 형태로 채워줄 수가 없음...\n",
        "# 결측치 값을 9066, lambda를 써서 [9066]\n",
        "user_movie_list.fillna(9066, inplace=True)\n",
        "user_movie_list['like'] = user_movie_list['like'].apply(lambda x: x if type(x) is list else [x])\n",
        "user_movie_list['dislike'] = user_movie_list['dislike'].apply(lambda x: x if type(x) is list else [x])"
      ],
      "execution_count": null,
      "outputs": []
    },
    {
      "cell_type": "code",
      "metadata": {
        "id": "gdnk7vgWwhyU",
        "colab_type": "code",
        "colab": {}
      },
      "source": [
        "user_final_list = pd.merge(user_movie_list, title_list, how='left')\n",
        "print(user_final_list)"
      ],
      "execution_count": null,
      "outputs": []
    },
    {
      "cell_type": "code",
      "metadata": {
        "id": "AvZFqp1Kw4Wq",
        "colab_type": "code",
        "colab": {}
      },
      "source": [
        "# x값(유저 히스토리) -> y값(유저가 다음으로 볼 영상의 인덱스값)\n",
        "# 사용자가 마지막으로 좋아요를 누른 영화를 빼내서 y값으로 지정\n",
        "user_final_list['predict_labels'] = user_final_list['like'].apply(lambda x: (x[-1]))\n",
        "user_final_list['like'] = user_final_list['like'].apply(lambda x: (x[:-1]))\n",
        "print(user_final_list)"
      ],
      "execution_count": null,
      "outputs": []
    },
    {
      "cell_type": "code",
      "metadata": {
        "id": "mFFORtaTRit-",
        "colab_type": "code",
        "colab": {}
      },
      "source": [
        "import tensorflow as tf\n",
        "from tensorflow.keras.layers import Input, Embedding, Dense, Concatenate, BatchNormalization, ReLU\n",
        "from tensorflow.keras.models import Model\n",
        "from tensorflow.keras.preprocessing.sequence import pad_sequences"
      ],
      "execution_count": null,
      "outputs": []
    },
    {
      "cell_type": "code",
      "metadata": {
        "id": "ZHzuVXjnRj-m",
        "colab_type": "code",
        "colab": {}
      },
      "source": [
        "# 패딩해줍시다!\n",
        "pm = pad_sequences(user_final_list['movieId'])\n",
        "pl = pad_sequences(user_final_list['like'])\n",
        "pd = pad_sequences(user_final_list['dislike'])"
      ],
      "execution_count": null,
      "outputs": []
    },
    {
      "cell_type": "code",
      "metadata": {
        "id": "ZPUYrrjPRnMy",
        "colab_type": "code",
        "colab": {}
      },
      "source": [
        "# 패딩된 길이대로 shape 지정\n",
        "input_title = Input(shape=(2391, ))\n",
        "input_liked = Input(shape=(1819, ))\n",
        "input_disliked = Input(shape=(843, ))\n",
        "\n",
        "# 영화 제목은 9067개 (movieId 0~9065, 결측치값 9066)\n",
        "# 좋아하거나 싫어할 수 있는 영화도 9067개 (movieId 0~9065, 결측치값 9066)\n",
        "# 혹시나 이것이 다른 경우가 있을 수도 있기에 임베딩 레이어를 각각 만들어줬습니다!\n",
        "features_embedding_layer = Embedding(9067, 16, mask_zero=True)\n",
        "labels_embedding_layer = Embedding(9067, 16, mask_zero=True)\n",
        "\n",
        "dense_1 = Dense(units=48, activation='relu')\n",
        "dense_2 = Dense(units=48, activation='relu')\n",
        "dense_3 = Dense(units=48, activation='relu')\n",
        "\n",
        "# 총 9067개의 y값이 존재할 수 있으므로 (movieId 0~9065, 결측치값 9066)\n",
        "dense_output = Dense(9067, activation='softmax')"
      ],
      "execution_count": null,
      "outputs": []
    },
    {
      "cell_type": "code",
      "metadata": {
        "id": "hp_2J3t8i9NI",
        "colab_type": "code",
        "colab": {}
      },
      "source": [
        "# reduce mean axis=1 을 하면 데이터길이 축을 따라서 평균을 낸다\n",
        "# 그러면 (671, 2391, 16) = (데이터개수, 데이터길이, 임베딩된 차원)\n",
        "# 에서 (671, 16) = 각 데이터들이 16짜리 임베딩 벡터로 표현된 것\n",
        "# 각 유저에 대해서 좋아하는 영화끼리 평균 / 싫어하는 영화끼리 평균 / 시청한 영화끼리 평균한 것\n",
        "features_embeddings = features_embedding_layer(input_title)\n",
        "avg_features = tf.reduce_mean(features_embeddings, axis=1)\n",
        "\n",
        "labels_liked_embeddings = labels_embedding_layer(input_liked)\n",
        "avg_liked = tf.reduce_mean(labels_liked_embeddings, axis=1)\n",
        "\n",
        "labels_disliked_embeddings = labels_embedding_layer(input_disliked)\n",
        "avg_disliked = tf.reduce_mean(labels_disliked_embeddings, axis=1)\n",
        "\n",
        "# 세 개 다 (671, 16) 형태로 reduce_mean 되었으니 결합하면 (671, 48) 이 될 것!\n",
        "concat_inputs = Concatenate()([avg_features, avg_liked, avg_disliked])\n",
        "\n",
        "dense_1_out = dense_1(concat_inputs)\n",
        "dense_2_out = dense_2(dense_1_out)\n",
        "dense_3_out = dense_3(dense_2_out)\n",
        "dense_3_batch_norm = BatchNormalization()(dense_3_out)\n",
        "outputs = dense_output(dense_3_batch_norm)"
      ],
      "execution_count": null,
      "outputs": []
    },
    {
      "cell_type": "code",
      "metadata": {
        "id": "38PFOe-bi-Wk",
        "colab_type": "code",
        "colab": {}
      },
      "source": [
        "model = Model([input_title, input_liked, input_disliked], outputs)\n",
        "model.compile(optimizer='adam', loss='sparse_categorical_crossentropy', metrics=['acc'])\n",
        "model.fit([pm, pl, pd], user_final_list['predict_labels'].values, epochs=100)"
      ],
      "execution_count": null,
      "outputs": []
    },
    {
      "cell_type": "code",
      "metadata": {
        "id": "wfsuOWgci_OH",
        "colab_type": "code",
        "colab": {}
      },
      "source": [
        "# 모델 구조도\n",
        "tf.keras.utils.plot_model(model, show_shapes=True, show_layer_names=True)"
      ],
      "execution_count": null,
      "outputs": []
    }
  ]
}